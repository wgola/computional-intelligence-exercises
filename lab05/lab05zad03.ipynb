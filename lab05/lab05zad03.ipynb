{
 "cells": [
  {
   "attachments": {},
   "cell_type": "markdown",
   "metadata": {},
   "source": [
    "Dodanie potrzebnych bibliotek\n"
   ]
  },
  {
   "cell_type": "code",
   "execution_count": 1,
   "metadata": {},
   "outputs": [],
   "source": [
    "from sklearn.tree import DecisionTreeClassifier, plot_tree\n",
    "from sklearn.model_selection import train_test_split\n",
    "from sklearn.metrics import confusion_matrix\n",
    "import pandas as pd\n"
   ]
  },
  {
   "attachments": {},
   "cell_type": "markdown",
   "metadata": {},
   "source": [
    "Wczytanie danych z pliku `irys.csv`, podzielenie ich na zbiór treningowy oraz testowy a następnie wyodrębnienie z nich danych wejściowych oraz klas i wyświetlenie wszystkich zbiorów\n"
   ]
  },
  {
   "cell_type": "code",
   "execution_count": 2,
   "metadata": {},
   "outputs": [
    {
     "name": "stdout",
     "output_type": "stream",
     "text": [
      "[[7.6 3.0 6.6 2.1 'virginica']\n",
      " [6.3 2.3 4.4 1.3 'versicolor']\n",
      " [5.8 2.8 5.1 2.4 'virginica']\n",
      " [4.8 3.4 1.9 0.2 'setosa']\n",
      " [5.6 2.8 4.9 2.0 'virginica']\n",
      " [5.5 4.2 1.4 0.2 'setosa']\n",
      " [4.9 2.5 4.5 1.7 'virginica']\n",
      " [7.7 2.6 6.9 2.3 'virginica']\n",
      " [6.8 3.2 5.9 2.3 'virginica']\n",
      " [6.2 2.9 4.3 1.3 'versicolor']\n",
      " [5.4 3.4 1.5 0.4 'setosa']\n",
      " [5.2 2.7 3.9 1.4 'versicolor']\n",
      " [6.9 3.1 4.9 1.5 'versicolor']\n",
      " [5.6 2.9 3.6 1.3 'versicolor']\n",
      " [6.0 3.0 4.8 1.8 'virginica']\n",
      " [6.7 3.1 5.6 2.4 'virginica']\n",
      " [6.6 2.9 4.6 1.3 'versicolor']\n",
      " [5.6 2.7 4.2 1.3 'versicolor']\n",
      " [7.9 3.8 6.4 2.0 'virginica']\n",
      " [6.9 3.1 5.4 2.1 'virginica']\n",
      " [5.8 4.0 1.2 0.2 'setosa']\n",
      " [7.2 3.6 6.1 2.5 'virginica']\n",
      " [5.6 3.0 4.1 1.3 'versicolor']\n",
      " [6.2 2.8 4.8 1.8 'virginica']\n",
      " [6.3 2.7 4.9 1.8 'virginica']\n",
      " [4.8 3.1 1.6 0.2 'setosa']\n",
      " [5.6 3.0 4.5 1.5 'versicolor']\n",
      " [4.3 3.0 1.1 0.1 'setosa']\n",
      " [7.0 3.2 4.7 1.4 'versicolor']\n",
      " [4.7 3.2 1.6 0.2 'setosa']\n",
      " [4.9 2.4 3.3 1.0 'versicolor']\n",
      " [4.4 2.9 1.4 0.2 'setosa']\n",
      " [5.7 2.8 4.1 1.3 'versicolor']\n",
      " [4.6 3.4 1.4 0.3 'setosa']\n",
      " [5.5 2.4 3.7 1.0 'versicolor']\n",
      " [5.1 3.3 1.7 0.5 'setosa']\n",
      " [6.1 2.8 4.0 1.3 'versicolor']\n",
      " [6.8 2.8 4.8 1.4 'versicolor']\n",
      " [6.3 2.8 5.1 1.5 'virginica']\n",
      " [5.1 3.8 1.6 0.2 'setosa']\n",
      " [5.7 3.8 1.7 0.3 'setosa']\n",
      " [5.8 2.7 5.1 1.9 'virginica']\n",
      " [6.7 3.3 5.7 2.1 'virginica']\n",
      " [6.5 3.0 5.5 1.8 'virginica']\n",
      " [5.0 3.5 1.6 0.6 'setosa']\n",
      " [4.4 3.0 1.3 0.2 'setosa']\n",
      " [6.7 3.0 5.0 1.7 'versicolor']\n",
      " [4.6 3.1 1.5 0.2 'setosa']\n",
      " [6.8 3.0 5.5 2.1 'virginica']\n",
      " [7.7 3.0 6.1 2.3 'virginica']\n",
      " [6.3 3.3 4.7 1.6 'versicolor']\n",
      " [5.2 4.1 1.5 0.1 'setosa']\n",
      " [6.4 3.2 5.3 2.3 'virginica']\n",
      " [6.5 3.2 5.1 2.0 'virginica']\n",
      " [5.2 3.5 1.5 0.2 'setosa']\n",
      " [5.0 3.4 1.6 0.4 'setosa']\n",
      " [5.4 3.9 1.3 0.4 'setosa']\n",
      " [5.7 4.4 1.5 0.4 'setosa']\n",
      " [6.5 2.8 4.6 1.5 'versicolor']\n",
      " [5.4 3.7 1.5 0.2 'setosa']\n",
      " [5.2 3.4 1.4 0.2 'setosa']\n",
      " [5.5 2.5 4.0 1.3 'versicolor']\n",
      " [5.8 2.7 5.1 1.9 'virginica']\n",
      " [5.5 3.5 1.3 0.2 'setosa']\n",
      " [5.1 3.5 1.4 0.2 'setosa']\n",
      " [5.0 3.3 1.4 0.2 'setosa']\n",
      " [6.7 3.1 4.4 1.4 'versicolor']\n",
      " [6.0 2.7 5.1 1.6 'versicolor']\n",
      " [7.2 3.2 6.0 1.8 'virginica']\n",
      " [5.1 2.5 3.0 1.1 'versicolor']\n",
      " [5.0 3.6 1.4 0.2 'setosa']\n",
      " [6.7 3.1 4.7 1.5 'versicolor']\n",
      " [5.4 3.9 1.7 0.4 'setosa']\n",
      " [7.7 2.8 6.7 2.0 'virginica']\n",
      " [5.7 2.8 4.5 1.3 'versicolor']\n",
      " [6.7 2.5 5.8 1.8 'virginica']\n",
      " [6.7 3.3 5.7 2.5 'virginica']\n",
      " [6.1 3.0 4.6 1.4 'versicolor']\n",
      " [5.4 3.4 1.7 0.2 'setosa']\n",
      " [4.6 3.6 1.0 0.2 'setosa']\n",
      " [6.4 2.7 5.3 1.9 'virginica']\n",
      " [6.0 2.2 5.0 1.5 'virginica']\n",
      " [5.1 3.4 1.5 0.2 'setosa']\n",
      " [6.4 2.8 5.6 2.1 'virginica']\n",
      " [4.7 3.2 1.3 0.2 'setosa']\n",
      " [6.3 2.5 5.0 1.9 'virginica']\n",
      " [5.8 2.7 4.1 1.0 'versicolor']\n",
      " [5.0 2.3 3.3 1.0 'versicolor']\n",
      " [5.7 2.9 4.2 1.3 'versicolor']\n",
      " [7.7 3.8 6.7 2.2 'virginica']\n",
      " [4.8 3.4 1.6 0.2 'setosa']\n",
      " [4.8 3.0 1.4 0.3 'setosa']\n",
      " [5.5 2.6 4.4 1.2 'versicolor']\n",
      " [5.5 2.3 4.0 1.3 'versicolor']\n",
      " [6.1 2.6 5.6 1.4 'virginica']\n",
      " [6.3 2.9 5.6 1.8 'virginica']\n",
      " [5.3 3.7 1.5 0.2 'setosa']\n",
      " [6.6 3.0 4.4 1.4 'versicolor']\n",
      " [4.5 2.3 1.3 0.3 'setosa']\n",
      " [6.5 3.0 5.8 2.2 'virginica']\n",
      " [7.3 2.9 6.3 1.8 'virginica']\n",
      " [6.9 3.2 5.7 2.3 'virginica']\n",
      " [5.1 3.8 1.9 0.4 'setosa']\n",
      " [6.4 2.9 4.3 1.3 'versicolor']\n",
      " [6.3 3.3 6.0 2.5 'virginica']]\n",
      "---\n",
      "[[4.9 3.0 1.4 0.2 'setosa']\n",
      " [6.0 2.9 4.5 1.5 'versicolor']\n",
      " [7.4 2.8 6.1 1.9 'virginica']\n",
      " [5.4 3.0 4.5 1.5 'versicolor']\n",
      " [4.8 3.0 1.4 0.1 'setosa']\n",
      " [5.9 3.0 4.2 1.5 'versicolor']\n",
      " [5.7 2.5 5.0 2.0 'virginica']\n",
      " [6.3 3.4 5.6 2.4 'virginica']\n",
      " [6.1 2.9 4.7 1.4 'versicolor']\n",
      " [6.2 2.2 4.5 1.5 'versicolor']\n",
      " [5.0 3.5 1.3 0.3 'setosa']\n",
      " [4.4 3.2 1.3 0.2 'setosa']\n",
      " [4.9 3.1 1.5 0.1 'setosa']\n",
      " [4.9 3.1 1.5 0.1 'setosa']\n",
      " [5.7 3.0 4.2 1.2 'versicolor']\n",
      " [6.1 3.0 4.9 1.8 'virginica']\n",
      " [6.4 3.1 5.5 1.8 'virginica']\n",
      " [5.6 2.5 3.9 1.1 'versicolor']\n",
      " [7.2 3.0 5.8 1.6 'virginica']\n",
      " [4.6 3.2 1.4 0.2 'setosa']\n",
      " [5.8 2.6 4.0 1.2 'versicolor']\n",
      " [5.1 3.5 1.4 0.3 'setosa']\n",
      " [6.9 3.1 5.1 2.3 'virginica']\n",
      " [6.3 2.5 4.9 1.5 'versicolor']\n",
      " [6.1 2.8 4.7 1.2 'versicolor']\n",
      " [5.1 3.8 1.5 0.3 'setosa']\n",
      " [6.5 3.0 5.2 2.0 'virginica']\n",
      " [6.7 3.0 5.2 2.3 'virginica']\n",
      " [5.7 2.6 3.5 1.0 'versicolor']\n",
      " [5.9 3.2 4.8 1.8 'versicolor']\n",
      " [6.4 3.2 4.5 1.5 'versicolor']\n",
      " [5.0 3.2 1.2 0.2 'setosa']\n",
      " [4.9 3.1 1.5 0.1 'setosa']\n",
      " [6.2 3.4 5.4 2.3 'virginica']\n",
      " [5.0 2.0 3.5 1.0 'versicolor']\n",
      " [5.9 3.0 5.1 1.8 'virginica']\n",
      " [5.0 3.0 1.6 0.2 'setosa']\n",
      " [5.5 2.4 3.8 1.1 'versicolor']\n",
      " [5.8 2.7 3.9 1.2 'versicolor']\n",
      " [6.0 3.4 4.5 1.6 'versicolor']\n",
      " [5.0 3.4 1.5 0.2 'setosa']\n",
      " [7.1 3.0 5.9 2.1 'virginica']\n",
      " [5.1 3.7 1.5 0.4 'setosa']\n",
      " [6.0 2.2 4.0 1.0 'versicolor']\n",
      " [6.4 2.8 5.6 2.2 'virginica']]\n"
     ]
    }
   ],
   "source": [
    "df = pd.read_csv(\"iris.csv\")\n",
    "\n",
    "(train_set, test_set) = train_test_split(\n",
    "    df.values, train_size=0.7, random_state=278804)\n",
    "\n",
    "train_inputs = train_set[:, 0:4]\n",
    "train_classes = train_set[:, 4]\n",
    "test_inputs = test_set[:, 0:4]\n",
    "test_classes = test_set[:, 4]\n",
    "\n",
    "print(train_set)\n",
    "print(\"---\")\n",
    "print(test_set)\n"
   ]
  },
  {
   "attachments": {},
   "cell_type": "markdown",
   "metadata": {},
   "source": [
    "Zainicjalizowanie drzewa decyzyjnego metodą `DecisionTreeClassifier`, wytrenowanie go oraz wyświetlenie drzewa w formie graficznej i tekstowej\n"
   ]
  },
  {
   "cell_type": "code",
   "execution_count": 3,
   "metadata": {},
   "outputs": [
    {
     "data": {
      "text/plain": [
       "[Text(0.5, 0.9, 'x[3] <= 0.8\\ngini = 0.665\\nsamples = 105\\nvalue = [36, 32, 37]'),\n",
       " Text(0.375, 0.7, 'gini = 0.0\\nsamples = 36\\nvalue = [36, 0, 0]'),\n",
       " Text(0.625, 0.7, 'x[3] <= 1.75\\ngini = 0.497\\nsamples = 69\\nvalue = [0, 32, 37]'),\n",
       " Text(0.5, 0.5, 'x[2] <= 4.95\\ngini = 0.198\\nsamples = 36\\nvalue = [0, 32, 4]'),\n",
       " Text(0.25, 0.3, 'x[3] <= 1.65\\ngini = 0.062\\nsamples = 31\\nvalue = [0, 30, 1]'),\n",
       " Text(0.125, 0.1, 'gini = 0.0\\nsamples = 30\\nvalue = [0, 30, 0]'),\n",
       " Text(0.375, 0.1, 'gini = 0.0\\nsamples = 1\\nvalue = [0, 0, 1]'),\n",
       " Text(0.75, 0.3, 'x[3] <= 1.55\\ngini = 0.48\\nsamples = 5\\nvalue = [0, 2, 3]'),\n",
       " Text(0.625, 0.1, 'gini = 0.0\\nsamples = 3\\nvalue = [0, 0, 3]'),\n",
       " Text(0.875, 0.1, 'gini = 0.0\\nsamples = 2\\nvalue = [0, 2, 0]'),\n",
       " Text(0.75, 0.5, 'gini = 0.0\\nsamples = 33\\nvalue = [0, 0, 33]')]"
      ]
     },
     "execution_count": 3,
     "metadata": {},
     "output_type": "execute_result"
    },
    {
     "data": {
      "image/png": "[encoded data removed]",
      "text/plain": [
       "<Figure size 640x480 with 1 Axes>"
      ]
     },
     "metadata": {},
     "output_type": "display_data"
    }
   ],
   "source": [
    "tree = DecisionTreeClassifier()\n",
    "\n",
    "classifier = tree.fit(train_inputs, train_classes)\n",
    "\n",
    "plot_tree(classifier)\n"
   ]
  },
  {
   "attachments": {},
   "cell_type": "markdown",
   "metadata": {},
   "source": [
    "Dokonanie ewaluacji klasyfikatora: wyświetlenie jego dokładności oraz macierzy błędów\n"
   ]
  },
  {
   "cell_type": "code",
   "execution_count": 4,
   "metadata": {},
   "outputs": [
    {
     "name": "stdout",
     "output_type": "stream",
     "text": [
      "0.9555555555555556\n",
      "[[14  0  0]\n",
      " [ 0 17  1]\n",
      " [ 0  1 12]]\n"
     ]
    }
   ],
   "source": [
    "score = classifier.score(test_inputs, test_classes)\n",
    "\n",
    "predictions = classifier.predict(test_inputs)\n",
    "\n",
    "matrix = confusion_matrix(test_classes, predictions, labels=[\n",
    "    \"setosa\", \"versicolor\", \"virginica\"])\n",
    "\n",
    "print(score)\n",
    "print(matrix)\n"
   ]
  }
 ],
 "metadata": {
  "kernelspec": {
   "display_name": "Python 3",
   "language": "python",
   "name": "python3"
  },
  "language_info": {
   "codemirror_mode": {
    "name": "ipython",
    "version": 3
   },
   "file_extension": ".py",
   "mimetype": "text/x-python",
   "name": "python",
   "nbconvert_exporter": "python",
   "pygments_lexer": "ipython3",
   "version": "3.10.6"
  },
  "orig_nbformat": 4
 },
 "nbformat": 4,
 "nbformat_minor": 2
}
