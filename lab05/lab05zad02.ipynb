{
 "cells": [
  {
   "cell_type": "code",
   "execution_count": 30,
   "metadata": {},
   "outputs": [],
   "source": [
    "from sklearn.model_selection import train_test_split\n",
    "import pandas as pd\n"
   ]
  },
  {
   "cell_type": "code",
   "execution_count": 31,
   "metadata": {},
   "outputs": [],
   "source": [
    "df = pd.read_csv(\"iris.csv\")\n",
    "\n",
    "(train_set, test_set) = train_test_split(\n",
    "    df.values, train_size=0.7, random_state=278804)\n"
   ]
  },
  {
   "cell_type": "code",
   "execution_count": 32,
   "metadata": {},
   "outputs": [],
   "source": [
    "def classify_iris(sl, sw, pl, pw):\n",
    "    if sl > 4:\n",
    "        return (\"setosa\")\n",
    "    elif pl <= 5:\n",
    "        return (\"virginica\")\n",
    "    else:\n",
    "        return (\"versicolor\")\n"
   ]
  },
  {
   "cell_type": "code",
   "execution_count": 33,
   "metadata": {},
   "outputs": [
    {
     "name": "stdout",
     "output_type": "stream",
     "text": [
      "14\n",
      "31.11111111111111 %\n"
     ]
    }
   ],
   "source": [
    "good_predictions = 0\n",
    "len = test_set.shape[0]\n",
    "\n",
    "for i in range(len):\n",
    "    if classify_iris(*test_set[i][0:4]) == test_set[i][4]:\n",
    "        good_predictions = good_predictions + 1\n",
    "\n",
    "print(good_predictions)\n",
    "print(good_predictions/len*100, \"%\")\n"
   ]
  },
  {
   "cell_type": "code",
   "execution_count": 34,
   "metadata": {},
   "outputs": [
    {
     "name": "stdout",
     "output_type": "stream",
     "text": [
      "[[5.1 3.8 1.6 0.2 'setosa']\n",
      " [4.4 2.9 1.4 0.2 'setosa']\n",
      " [4.6 3.4 1.4 0.3 'setosa']\n",
      " [5.1 3.3 1.7 0.5 'setosa']\n",
      " [4.8 3.4 1.6 0.2 'setosa']\n",
      " [5.7 3.8 1.7 0.3 'setosa']\n",
      " [5.0 3.5 1.6 0.6 'setosa']\n",
      " [4.4 3.0 1.3 0.2 'setosa']\n",
      " [4.6 3.1 1.5 0.2 'setosa']\n",
      " [5.2 4.1 1.5 0.1 'setosa']\n",
      " [4.7 3.2 1.3 0.2 'setosa']\n",
      " [5.2 3.5 1.5 0.2 'setosa']\n",
      " [5.0 3.4 1.6 0.4 'setosa']\n",
      " [5.4 3.9 1.3 0.4 'setosa']\n",
      " [5.7 4.4 1.5 0.4 'setosa']\n",
      " [5.4 3.7 1.5 0.2 'setosa']\n",
      " [5.2 3.4 1.4 0.2 'setosa']\n",
      " [5.5 3.5 1.3 0.2 'setosa']\n",
      " [5.1 3.5 1.4 0.2 'setosa']\n",
      " [5.0 3.3 1.4 0.2 'setosa']\n",
      " [5.1 3.4 1.5 0.2 'setosa']\n",
      " [5.0 3.6 1.4 0.2 'setosa']\n",
      " [5.4 3.9 1.7 0.4 'setosa']\n",
      " [4.6 3.6 1.0 0.2 'setosa']\n",
      " [4.7 3.2 1.6 0.2 'setosa']\n",
      " [4.3 3.0 1.1 0.1 'setosa']\n",
      " [5.4 3.4 1.7 0.2 'setosa']\n",
      " [4.8 3.1 1.6 0.2 'setosa']\n",
      " [5.4 3.4 1.5 0.4 'setosa']\n",
      " [4.5 2.3 1.3 0.3 'setosa']\n",
      " [5.5 4.2 1.4 0.2 'setosa']\n",
      " [4.8 3.4 1.9 0.2 'setosa']\n",
      " [5.8 4.0 1.2 0.2 'setosa']\n",
      " [5.1 3.8 1.9 0.4 'setosa']\n",
      " [4.8 3.0 1.4 0.3 'setosa']\n",
      " [5.3 3.7 1.5 0.2 'setosa']\n",
      " [6.7 3.1 4.4 1.4 'versicolor']\n",
      " [5.7 2.8 4.5 1.3 'versicolor']\n",
      " [5.6 3.0 4.5 1.5 'versicolor']\n",
      " [5.5 2.5 4.0 1.3 'versicolor']\n",
      " [5.1 2.5 3.0 1.1 'versicolor']\n",
      " [6.7 3.1 4.7 1.5 'versicolor']\n",
      " [6.5 2.8 4.6 1.5 'versicolor']\n",
      " [6.3 2.3 4.4 1.3 'versicolor']\n",
      " [5.2 2.7 3.9 1.4 'versicolor']\n",
      " [6.9 3.1 4.9 1.5 'versicolor']\n",
      " [5.6 2.9 3.6 1.3 'versicolor']\n",
      " [6.6 3.0 4.4 1.4 'versicolor']\n",
      " [6.0 2.7 5.1 1.6 'versicolor']\n",
      " [6.2 2.9 4.3 1.3 'versicolor']\n",
      " [6.4 2.9 4.3 1.3 'versicolor']\n",
      " [4.9 2.4 3.3 1.0 'versicolor']\n",
      " [5.7 2.8 4.1 1.3 'versicolor']\n",
      " [5.5 2.3 4.0 1.3 'versicolor']\n",
      " [6.1 2.8 4.0 1.3 'versicolor']\n",
      " [6.8 2.8 4.8 1.4 'versicolor']\n",
      " [6.3 3.3 4.7 1.6 'versicolor']\n",
      " [5.5 2.6 4.4 1.2 'versicolor']\n",
      " [6.1 3.0 4.6 1.4 'versicolor']\n",
      " [5.5 2.4 3.7 1.0 'versicolor']\n",
      " [5.6 3.0 4.1 1.3 'versicolor']\n",
      " [5.7 2.9 4.2 1.3 'versicolor']\n",
      " [5.0 2.3 3.3 1.0 'versicolor']\n",
      " [7.0 3.2 4.7 1.4 'versicolor']\n",
      " [5.6 2.7 4.2 1.3 'versicolor']\n",
      " [6.7 3.0 5.0 1.7 'versicolor']\n",
      " [6.6 2.9 4.6 1.3 'versicolor']\n",
      " [5.8 2.7 4.1 1.0 'versicolor']\n",
      " [6.0 2.2 5.0 1.5 'virginica']\n",
      " [6.4 2.7 5.3 1.9 'virginica']\n",
      " [6.3 2.5 5.0 1.9 'virginica']\n",
      " [7.3 2.9 6.3 1.8 'virginica']\n",
      " [6.5 3.0 5.8 2.2 'virginica']\n",
      " [6.4 2.8 5.6 2.1 'virginica']\n",
      " [6.1 2.6 5.6 1.4 'virginica']\n",
      " [7.7 3.8 6.7 2.2 'virginica']\n",
      " [6.3 2.9 5.6 1.8 'virginica']\n",
      " [6.9 3.2 5.7 2.3 'virginica']\n",
      " [7.6 3.0 6.6 2.1 'virginica']\n",
      " [6.4 3.2 5.3 2.3 'virginica']\n",
      " [6.7 2.5 5.8 1.8 'virginica']\n",
      " [5.8 2.8 5.1 2.4 'virginica']\n",
      " [5.6 2.8 4.9 2.0 'virginica']\n",
      " [4.9 2.5 4.5 1.7 'virginica']\n",
      " [7.7 2.6 6.9 2.3 'virginica']\n",
      " [6.8 3.2 5.9 2.3 'virginica']\n",
      " [6.0 3.0 4.8 1.8 'virginica']\n",
      " [6.7 3.1 5.6 2.4 'virginica']\n",
      " [7.9 3.8 6.4 2.0 'virginica']\n",
      " [6.9 3.1 5.4 2.1 'virginica']\n",
      " [7.2 3.6 6.1 2.5 'virginica']\n",
      " [6.7 3.3 5.7 2.5 'virginica']\n",
      " [6.2 2.8 4.8 1.8 'virginica']\n",
      " [6.3 2.8 5.1 1.5 'virginica']\n",
      " [5.8 2.7 5.1 1.9 'virginica']\n",
      " [6.7 3.3 5.7 2.1 'virginica']\n",
      " [6.5 3.0 5.5 1.8 'virginica']\n",
      " [6.8 3.0 5.5 2.1 'virginica']\n",
      " [7.7 3.0 6.1 2.3 'virginica']\n",
      " [6.5 3.2 5.1 2.0 'virginica']\n",
      " [5.8 2.7 5.1 1.9 'virginica']\n",
      " [7.2 3.2 6.0 1.8 'virginica']\n",
      " [7.7 2.8 6.7 2.0 'virginica']\n",
      " [6.3 2.7 4.9 1.8 'virginica']\n",
      " [6.3 3.3 6.0 2.5 'virginica']]\n"
     ]
    }
   ],
   "source": [
    "print(train_set[train_set[:, 4].argsort()])"
   ]
  },
  {
   "cell_type": "code",
   "execution_count": 35,
   "metadata": {},
   "outputs": [],
   "source": [
    "def better_classify_iris(sl, sw, pl, pw):\n",
    "    if sl <= 5.5:\n",
    "        return (\"setosa\")\n",
    "    elif pl >= 5:\n",
    "        return (\"virginica\")\n",
    "    else:\n",
    "        return (\"versicolor\")\n"
   ]
  },
  {
   "cell_type": "code",
   "execution_count": 36,
   "metadata": {},
   "outputs": [
    {
     "name": "stdout",
     "output_type": "stream",
     "text": [
      "41\n",
      "91.11111111111111 %\n"
     ]
    }
   ],
   "source": [
    "good_predictions = 0\n",
    "len = test_set.shape[0]\n",
    "\n",
    "for i in range(len):\n",
    "    if better_classify_iris(*test_set[i][0:4]) == test_set[i][4]:\n",
    "        good_predictions = good_predictions + 1\n",
    "\n",
    "print(good_predictions)\n",
    "print(good_predictions/len*100, \"%\")\n"
   ]
  }
 ],
 "metadata": {
  "kernelspec": {
   "display_name": "Python 3",
   "language": "python",
   "name": "python3"
  },
  "language_info": {
   "codemirror_mode": {
    "name": "ipython",
    "version": 3
   },
   "file_extension": ".py",
   "mimetype": "text/x-python",
   "name": "python",
   "nbconvert_exporter": "python",
   "pygments_lexer": "ipython3",
   "version": "3.10.6"
  },
  "orig_nbformat": 4
 },
 "nbformat": 4,
 "nbformat_minor": 2
}
