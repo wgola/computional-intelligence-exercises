{
 "cells": [
  {
   "attachments": {},
   "cell_type": "markdown",
   "metadata": {},
   "source": [
    "Dodanie potrzebnych bibliotek\n"
   ]
  },
  {
   "cell_type": "code",
   "execution_count": 120,
   "metadata": {},
   "outputs": [],
   "source": [
    "from sklearn.model_selection import train_test_split\n",
    "from sklearn.neighbors import KNeighborsClassifier\n",
    "from sklearn.metrics import confusion_matrix\n",
    "from sklearn.naive_bayes import GaussianNB\n",
    "import pandas as pd\n"
   ]
  },
  {
   "attachments": {},
   "cell_type": "markdown",
   "metadata": {},
   "source": [
    "Wczytanie danych z pliku `irys.csv`, podzielenie ich na zbiór treningowy oraz testowy a następnie wyodrębnienie z nich danych wejściowych oraz klas\n"
   ]
  },
  {
   "cell_type": "code",
   "execution_count": 121,
   "metadata": {},
   "outputs": [],
   "source": [
    "df = pd.read_csv(\"iris.csv\")\n",
    "\n",
    "(train_set, test_set) = train_test_split(\n",
    "    df.values, train_size=0.7, random_state=278804)\n",
    "\n",
    "train_inputs = train_set[:, 0:4]\n",
    "train_classes = train_set[:, 4]\n",
    "test_inputs = test_set[:, 0:4]\n",
    "test_classes = test_set[:, 4]\n"
   ]
  },
  {
   "attachments": {},
   "cell_type": "markdown",
   "metadata": {},
   "source": [
    "Przeprowadzenie klasyfikacji metodą k-najbliższych sąsiadów dla:\n",
    "\n",
    "- 3 sąsiadów\n",
    "- 5 sąsiadów\n",
    "- 11 sąsiadów\n",
    "\n",
    "oraz zapisanie ich dokładności oraz macierzy błędu\n"
   ]
  },
  {
   "cell_type": "code",
   "execution_count": 122,
   "metadata": {},
   "outputs": [],
   "source": [
    "knn = {}\n",
    "\n",
    "for neigbhours in [3, 5, 11]:\n",
    "    tmp_knn = KNeighborsClassifier(n_neighbors=neigbhours)\n",
    "    tmp_knn.fit(train_inputs, train_classes)\n",
    "\n",
    "    score = tmp_knn.score(test_inputs, test_classes)\n",
    "    prediction = tmp_knn.predict(test_inputs)\n",
    "    matrix = confusion_matrix(test_classes, prediction)\n",
    "\n",
    "    knn[neigbhours] = {\"score\": score,\n",
    "                       \"confusion_matrix\": matrix}\n"
   ]
  },
  {
   "attachments": {},
   "cell_type": "markdown",
   "metadata": {},
   "source": [
    "Przeprowadzenie klasyfikacji klasyfikatorem Naive Bayes oraz zapisanie jej dokładności i macierzy błędu\n"
   ]
  },
  {
   "cell_type": "code",
   "execution_count": 123,
   "metadata": {},
   "outputs": [],
   "source": [
    "nb = GaussianNB()\n",
    "nb.fit(train_inputs, train_classes)\n",
    "\n",
    "nb_score = nb.score(test_inputs, test_classes)\n",
    "nb_prediction = nb.predict(test_inputs)\n",
    "nb_matrix = confusion_matrix(test_classes, nb_prediction)\n"
   ]
  },
  {
   "attachments": {},
   "cell_type": "markdown",
   "metadata": {},
   "source": [
    "Wyświetlenie wyników i macierzy błędu dla wszystkich klasyfikatorów:\n",
    "\n",
    "- 3-najbliższych sąsiadów\n"
   ]
  },
  {
   "cell_type": "code",
   "execution_count": 124,
   "metadata": {},
   "outputs": [
    {
     "name": "stdout",
     "output_type": "stream",
     "text": [
      "0.9555555555555556\n",
      "[[14  0  0]\n",
      " [ 0 16  2]\n",
      " [ 0  0 13]]\n"
     ]
    }
   ],
   "source": [
    "print(knn[3]['score'])\n",
    "print(knn[3]['confusion_matrix'])\n"
   ]
  },
  {
   "attachments": {},
   "cell_type": "markdown",
   "metadata": {},
   "source": [
    "- 5-najbliższych sąsiadów\n"
   ]
  },
  {
   "cell_type": "code",
   "execution_count": 125,
   "metadata": {},
   "outputs": [
    {
     "name": "stdout",
     "output_type": "stream",
     "text": [
      "0.9333333333333333\n",
      "[[14  0  0]\n",
      " [ 0 15  3]\n",
      " [ 0  0 13]]\n"
     ]
    }
   ],
   "source": [
    "print(knn[5]['score'])\n",
    "print(knn[5]['confusion_matrix'])\n"
   ]
  },
  {
   "attachments": {},
   "cell_type": "markdown",
   "metadata": {},
   "source": [
    "- 11-najbliższych sąsiadów\n"
   ]
  },
  {
   "cell_type": "code",
   "execution_count": 126,
   "metadata": {},
   "outputs": [
    {
     "name": "stdout",
     "output_type": "stream",
     "text": [
      "0.9555555555555556\n",
      "[[14  0  0]\n",
      " [ 0 16  2]\n",
      " [ 0  0 13]]\n"
     ]
    }
   ],
   "source": [
    "print(knn[11]['score'])\n",
    "print(knn[11]['confusion_matrix'])\n"
   ]
  },
  {
   "attachments": {},
   "cell_type": "markdown",
   "metadata": {},
   "source": [
    "- Naive Bayes\n"
   ]
  },
  {
   "cell_type": "code",
   "execution_count": 127,
   "metadata": {},
   "outputs": [
    {
     "name": "stdout",
     "output_type": "stream",
     "text": [
      "0.9777777777777777\n",
      "[[14  0  0]\n",
      " [ 0 17  1]\n",
      " [ 0  0 13]]\n"
     ]
    }
   ],
   "source": [
    "print(nb_score)\n",
    "print(nb_matrix)\n"
   ]
  },
  {
   "attachments": {},
   "cell_type": "markdown",
   "metadata": {},
   "source": [
    "Z porównania wszystkich 5 klasyfikatorów (drzewo decyzyjne, 3-najbliższych sąsiadów, 5-najbliższych sąsiadów, 11-najbliższych sąsiadów, Naive Bayes) pod względem dokładności wynika, że najlepszy z nich jest Naive Bayes, który osiągnął dokładność na poziomie 98%, najgorszy jest klasyfikator 5-najbliższych sąsiadów z wynikiem 93% dokładności, a wszystkie pozostałe uzyskały dokładność na poziomie 95%\n"
   ]
  }
 ],
 "metadata": {
  "kernelspec": {
   "display_name": "Python 3",
   "language": "python",
   "name": "python3"
  },
  "language_info": {
   "codemirror_mode": {
    "name": "ipython",
    "version": 3
   },
   "file_extension": ".py",
   "mimetype": "text/x-python",
   "name": "python",
   "nbconvert_exporter": "python",
   "pygments_lexer": "ipython3",
   "version": "3.10.6"
  },
  "orig_nbformat": 4
 },
 "nbformat": 4,
 "nbformat_minor": 2
}
