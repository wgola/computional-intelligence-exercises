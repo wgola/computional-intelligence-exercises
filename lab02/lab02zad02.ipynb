{
 "cells": [
  {
   "attachments": {},
   "cell_type": "markdown",
   "metadata": {},
   "source": [
    "Zaimportowanie bibliotek\n"
   ]
  },
  {
   "cell_type": "code",
   "execution_count": 15,
   "metadata": {},
   "outputs": [],
   "source": [
    "import pygad\n",
    "import numpy as np\n",
    "import time\n"
   ]
  },
  {
   "cell_type": "markdown",
   "metadata": {},
   "source": [
    "Stworzenie listy przedmiotów z ich wartościami oraz wagami i ustalenie wagi maksymalnej na 25 [kg]\n"
   ]
  },
  {
   "cell_type": "code",
   "execution_count": 16,
   "metadata": {},
   "outputs": [],
   "source": [
    "items = [\n",
    "    {\"id\": 0, \"name\": \"zegar\", \"value\": 100, \"weight\": 7},\n",
    "    {\"id\": 1, \"name\": \"obraz-pejzaż\", \"value\": 300, \"weight\": 7},\n",
    "    {\"id\": 2, \"name\": \"obraz-portret\", \"value\": 200, \"weight\": 6},\n",
    "    {\"id\": 3, \"name\": \"radio\", \"value\": 40, \"weight\": 2},\n",
    "    {\"id\": 4, \"name\": \"laptop\", \"value\": 500, \"weight\": 5},\n",
    "    {\"id\": 5, \"name\": \"lampka nocna\", \"value\": 70, \"weight\": 6},\n",
    "    {\"id\": 6, \"name\": \"srebrne sztućce\", \"value\": 100, \"weight\": 1},\n",
    "    {\"id\": 7, \"name\": \"porcelana\", \"value\": 250, \"weight\": 3},\n",
    "    {\"id\": 8, \"name\": \"figura z brązu\", \"value\": 300, \"weight\": 10},\n",
    "    {\"id\": 9, \"name\": \"skórzana torebka\", \"value\": 280, \"weight\": 3},\n",
    "    {\"id\": 10, \"name\": \"odkurzacz\", \"value\": 300, \"weight\": 15}\n",
    "]\n",
    "\n",
    "weight_limit = 25\n"
   ]
  },
  {
   "cell_type": "markdown",
   "metadata": {},
   "source": [
    "Zdefiniowanie puli genów jako liczb 0 i 1\n"
   ]
  },
  {
   "cell_type": "code",
   "execution_count": 17,
   "metadata": {},
   "outputs": [],
   "source": [
    "gene_space = [0, 1]\n"
   ]
  },
  {
   "cell_type": "markdown",
   "metadata": {},
   "source": [
    "Stworzenie funkcji fitness, która jako wynik zwraca wartość przedmiotów jeśli ich waga jest mniejsza lub równa 25 [kg], lub 0 w pozostałych przypadkach\n"
   ]
  },
  {
   "cell_type": "code",
   "execution_count": 18,
   "metadata": {},
   "outputs": [],
   "source": [
    "def fitness_function(solution, solution_idx):\n",
    "    picked_items = [item for item in items if solution[item[\"id\"]]]\n",
    "    weight = np.sum([item[\"weight\"] for item in picked_items])\n",
    "    value = np.sum([item[\"value\"] for item in picked_items])\n",
    "    return 0 if weight > weight_limit else value\n"
   ]
  },
  {
   "cell_type": "markdown",
   "metadata": {},
   "source": [
    "Ustalenie wielkości populacji na 20 chromosomów oraz liczby genów każdego chromosomu na liczbe elementów listy\n"
   ]
  },
  {
   "cell_type": "code",
   "execution_count": 19,
   "metadata": {},
   "outputs": [],
   "source": [
    "sol_per_pop = 20\n",
    "num_genes = len(items)\n"
   ]
  },
  {
   "attachments": {},
   "cell_type": "markdown",
   "metadata": {},
   "source": [
    "Ustalenie liczby rodziców do \"rozmnażania\" na 10, liczby generacji na 200 oraz ilość rodziców do zachowania pomiędzy generacjami na 4\n"
   ]
  },
  {
   "cell_type": "code",
   "execution_count": 20,
   "metadata": {},
   "outputs": [],
   "source": [
    "num_parents_mating = 10\n",
    "num_generations = 200\n",
    "keep_parents = 4\n"
   ]
  },
  {
   "cell_type": "markdown",
   "metadata": {},
   "source": [
    "Ustalenie typu selekcji rodziców oraz ilości punktów, w których należy robić krzyżowanie chromosomów\n"
   ]
  },
  {
   "cell_type": "code",
   "execution_count": 21,
   "metadata": {},
   "outputs": [],
   "source": [
    "parent_selection_type = \"sss\"\n",
    "crossover_type = \"single_point\"\n"
   ]
  },
  {
   "cell_type": "markdown",
   "metadata": {},
   "source": [
    "Ustalenie typu mutacji na losową oraz procentu mutowanych genów na 10%\n"
   ]
  },
  {
   "cell_type": "code",
   "execution_count": 22,
   "metadata": {},
   "outputs": [],
   "source": [
    "mutation_type = \"random\"\n",
    "mutation_percent_genes = 10\n"
   ]
  },
  {
   "attachments": {},
   "cell_type": "markdown",
   "metadata": {},
   "source": [
    "Ustalenie kryterium zatrzymania tak, aby algorytm przestał działać po znalezieniu rozwiązania o ocenie większej lub równej 1600\n"
   ]
  },
  {
   "cell_type": "code",
   "execution_count": 23,
   "metadata": {},
   "outputs": [],
   "source": [
    "stop_criteria = \"reach_1600\"\n"
   ]
  },
  {
   "attachments": {},
   "cell_type": "markdown",
   "metadata": {},
   "source": [
    "Inicjalizacja oraz uruchomienie algorytmu ze zdefiniowanymi parametrami oraz pomiar czasu jego wykonania\n"
   ]
  },
  {
   "cell_type": "code",
   "execution_count": 24,
   "metadata": {},
   "outputs": [],
   "source": [
    "start = time.time()\n",
    "\n",
    "ga_instance = pygad.GA(\n",
    "    gene_space=gene_space,\n",
    "    num_generations=num_generations,\n",
    "    num_parents_mating=num_parents_mating,\n",
    "    fitness_func=fitness_function,\n",
    "    sol_per_pop=sol_per_pop,\n",
    "    num_genes=num_genes,\n",
    "    parent_selection_type=parent_selection_type,\n",
    "    keep_parents=keep_parents,\n",
    "    crossover_type=crossover_type,\n",
    "    mutation_type=mutation_type,\n",
    "    mutation_percent_genes=mutation_percent_genes,\n",
    "    stop_criteria=stop_criteria\n",
    ")\n",
    "\n",
    "ga_instance.run()\n",
    "\n",
    "end = time.time()\n"
   ]
  },
  {
   "attachments": {},
   "cell_type": "markdown",
   "metadata": {},
   "source": [
    "Wyświetlenie czasu trwania algorytmu oraz ilości pokoleń, które minęły przed znalezieniem rozwiązania\n"
   ]
  },
  {
   "cell_type": "code",
   "execution_count": 25,
   "metadata": {},
   "outputs": [
    {
     "name": "stdout",
     "output_type": "stream",
     "text": [
      "Number of generations completed before finding solution: 11\n",
      "Duration of algorithm: 0.014636039733886719 seconds\n"
     ]
    }
   ],
   "source": [
    "print(\"Number of generations completed before finding solution: {}\".format(\n",
    "    ga_instance.generations_completed))\n",
    "print(\"Duration of algorithm: {} seconds\".format(end - start))\n"
   ]
  },
  {
   "cell_type": "markdown",
   "metadata": {},
   "source": [
    "Najlepszy znaleziony chromosom oraz jego ocena\n"
   ]
  },
  {
   "cell_type": "code",
   "execution_count": 26,
   "metadata": {},
   "outputs": [
    {
     "name": "stdout",
     "output_type": "stream",
     "text": [
      "Parameters of the best solution : [0. 1. 1. 0. 1. 0. 1. 1. 0. 1. 0.]\n",
      "Fitness value of the best solution = 1630\n"
     ]
    }
   ],
   "source": [
    "solution, solution_fitness, solution_idx = ga_instance.best_solution()\n",
    "print(\"Parameters of the best solution : {solution}\".format(solution=solution))\n",
    "print(\"Fitness value of the best solution = {solution_fitness}\".format(\n",
    "    solution_fitness=solution_fitness))\n"
   ]
  },
  {
   "cell_type": "markdown",
   "metadata": {},
   "source": [
    "Lista wybranych przedmiotów, ich wartość oraz waga\n"
   ]
  },
  {
   "cell_type": "code",
   "execution_count": 27,
   "metadata": {},
   "outputs": [
    {
     "name": "stdout",
     "output_type": "stream",
     "text": [
      "Picked items: \n",
      "obraz-pejzaż, value = 300, weight = 7\n",
      "obraz-portret, value = 200, weight = 6\n",
      "laptop, value = 500, weight = 5\n",
      "srebrne sztućce, value = 100, weight = 1\n",
      "porcelana, value = 250, weight = 3\n",
      "skórzana torebka, value = 280, weight = 3\n",
      "Total value = 1630\n",
      "Total weight = 25\n"
     ]
    }
   ],
   "source": [
    "chosen_items = [item for item in items if solution[item[\"id\"]]]\n",
    "print(\"Picked items: \")\n",
    "for item in chosen_items:\n",
    "    print(\"{}, value = {}, weight = {}\".format(item[\"name\"],\n",
    "          item[\"value\"], item[\"weight\"]))\n",
    "print(\"Total value = {}\".format(\n",
    "    np.sum([item[\"value\"] for item in chosen_items])))\n",
    "print(\"Total weight = {}\".format(\n",
    "    np.sum([item[\"weight\"] for item in chosen_items])))\n"
   ]
  },
  {
   "cell_type": "markdown",
   "metadata": {},
   "source": [
    "Wykres prezentujący zmianę oceny na przestrzeni pokoleń\n"
   ]
  },
  {
   "cell_type": "code",
   "execution_count": 28,
   "metadata": {},
   "outputs": [
    {
     "data": {
      "image/png": "[encoded data removed]",
      "text/plain": [
       "<Figure size 640x480 with 1 Axes>"
      ]
     },
     "metadata": {},
     "output_type": "display_data"
    },
    {
     "name": "stdout",
     "output_type": "stream",
     "text": [
      "\n"
     ]
    }
   ],
   "source": [
    "ga_instance.plot_fitness()\n",
    "print()\n"
   ]
  },
  {
   "attachments": {},
   "cell_type": "markdown",
   "metadata": {},
   "source": [
    "Zmierzenie 10-krotnie czasu wykonania algorytmu i obliczenie średniego czasu znalezienia przez niego rozwiązania\n"
   ]
  },
  {
   "cell_type": "code",
   "execution_count": 29,
   "metadata": {},
   "outputs": [
    {
     "name": "stdout",
     "output_type": "stream",
     "text": [
      "Mean duration of algorithm: 0.0088423490524292 seconds\n"
     ]
    }
   ],
   "source": [
    "times = []\n",
    "for i in range(10):\n",
    "    start = time.time()\n",
    "\n",
    "    ga_instance = pygad.GA(\n",
    "        gene_space=gene_space,\n",
    "        num_generations=num_generations,\n",
    "        num_parents_mating=num_parents_mating,\n",
    "        fitness_func=fitness_function,\n",
    "        sol_per_pop=sol_per_pop,\n",
    "        num_genes=num_genes,\n",
    "        parent_selection_type=parent_selection_type,\n",
    "        keep_parents=keep_parents,\n",
    "        crossover_type=crossover_type,\n",
    "        mutation_type=mutation_type,\n",
    "        mutation_percent_genes=mutation_percent_genes,\n",
    "        stop_criteria=stop_criteria\n",
    "    )\n",
    "\n",
    "    ga_instance.run()\n",
    "\n",
    "    end = time.time()\n",
    "\n",
    "    times.append(end - start)\n",
    "\n",
    "print(\"Mean duration of algorithm: {} seconds\".format(np.mean(times)))\n"
   ]
  }
 ],
 "metadata": {
  "kernelspec": {
   "display_name": "Python 3",
   "language": "python",
   "name": "python3"
  },
  "language_info": {
   "codemirror_mode": {
    "name": "ipython",
    "version": 3
   },
   "file_extension": ".py",
   "mimetype": "text/x-python",
   "name": "python",
   "nbconvert_exporter": "python",
   "pygments_lexer": "ipython3",
   "version": "3.10.6"
  },
  "orig_nbformat": 4,
  "vscode": {
   "interpreter": {
    "hash": "916dbcbb3f70747c44a77c7bcd40155683ae19c65e1c03b4aa3499c5328201f1"
   }
  }
 },
 "nbformat": 4,
 "nbformat_minor": 2
}
