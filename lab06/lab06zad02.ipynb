{
 "cells": [
  {
   "attachments": {},
   "cell_type": "markdown",
   "metadata": {},
   "source": [
    "Dodanie potrzebnych bibliotek\n"
   ]
  },
  {
   "cell_type": "code",
   "execution_count": 1,
   "metadata": {},
   "outputs": [],
   "source": [
    "from sklearn.model_selection import train_test_split\n",
    "from sklearn.neural_network import MLPClassifier\n",
    "import pandas as pd\n"
   ]
  },
  {
   "attachments": {},
   "cell_type": "markdown",
   "metadata": {},
   "source": [
    "Wczytanie danych z pliku `iris.csv` i podzielenie ich na zbiór treningowy oraz testowy\n"
   ]
  },
  {
   "cell_type": "code",
   "execution_count": 2,
   "metadata": {},
   "outputs": [],
   "source": [
    "iris_data = pd.read_csv(\"iris.csv\")\n",
    "\n",
    "(train_set, test_set) = train_test_split(\n",
    "    iris_data.values, train_size=0.7, random_state=278804)\n",
    "\n",
    "train_inputs = train_set[:, 0:4]\n",
    "train_classes = train_set[:, 4]\n",
    "test_inputs = test_set[:, 0:4]\n",
    "test_classes = test_set[:, 4]\n"
   ]
  },
  {
   "attachments": {},
   "cell_type": "markdown",
   "metadata": {},
   "source": [
    "Stworzenie 3 modeli sieci neuronowych oraz sprawdzenie ich dokładności:\n",
    "\n",
    "- model z 2 neuronami w warstwie ukrytej\n"
   ]
  },
  {
   "cell_type": "code",
   "execution_count": 3,
   "metadata": {},
   "outputs": [
    {
     "name": "stdout",
     "output_type": "stream",
     "text": [
      "Score: 0.6\n"
     ]
    }
   ],
   "source": [
    "clf1 = MLPClassifier(\n",
    "    solver='lbfgs', hidden_layer_sizes=(2), random_state=278804)\n",
    "\n",
    "clf1.fit(train_inputs, train_classes)\n",
    "\n",
    "print(\"Score: {}\".format(clf1.score(test_inputs, test_classes)))\n"
   ]
  },
  {
   "attachments": {},
   "cell_type": "markdown",
   "metadata": {},
   "source": [
    "- model z 3 neuronami w warstwie ukrytej\n"
   ]
  },
  {
   "cell_type": "code",
   "execution_count": 4,
   "metadata": {},
   "outputs": [
    {
     "name": "stdout",
     "output_type": "stream",
     "text": [
      "Score: 0.9777777777777777\n"
     ]
    }
   ],
   "source": [
    "clf2 = MLPClassifier(\n",
    "    solver='lbfgs', hidden_layer_sizes=(3), random_state=278804)\n",
    "\n",
    "clf2.fit(train_inputs, train_classes)\n",
    "\n",
    "print(\"Score: {}\".format(clf2.score(test_inputs, test_classes)))\n"
   ]
  },
  {
   "attachments": {},
   "cell_type": "markdown",
   "metadata": {},
   "source": [
    "- model z dwiema warstwami ukrytymi, po 3 neurony w każdej\n"
   ]
  },
  {
   "cell_type": "code",
   "execution_count": 5,
   "metadata": {},
   "outputs": [
    {
     "name": "stdout",
     "output_type": "stream",
     "text": [
      "Score: 0.9555555555555556\n"
     ]
    }
   ],
   "source": [
    "clf3 = MLPClassifier(\n",
    "    solver='lbfgs', hidden_layer_sizes=(3, 3), random_state=278804)\n",
    "\n",
    "clf3.fit(train_inputs, train_classes)\n",
    "\n",
    "print(\"Score: {}\".format(clf3.score(test_inputs, test_classes)))\n"
   ]
  },
  {
   "attachments": {},
   "cell_type": "markdown",
   "metadata": {},
   "source": [
    "Najlepszy wynik osiągnął model z 3 neuronami, a najgorszy z 2 neuronami\n"
   ]
  }
 ],
 "metadata": {
  "kernelspec": {
   "display_name": "Python 3",
   "language": "python",
   "name": "python3"
  },
  "language_info": {
   "codemirror_mode": {
    "name": "ipython",
    "version": 3
   },
   "file_extension": ".py",
   "mimetype": "text/x-python",
   "name": "python",
   "nbconvert_exporter": "python",
   "pygments_lexer": "ipython3",
   "version": "3.10.6"
  },
  "orig_nbformat": 4
 },
 "nbformat": 4,
 "nbformat_minor": 2
}
