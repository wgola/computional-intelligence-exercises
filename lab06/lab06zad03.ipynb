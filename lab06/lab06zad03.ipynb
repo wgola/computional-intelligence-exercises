{
 "cells": [
  {
   "cell_type": "code",
   "execution_count": 22,
   "metadata": {},
   "outputs": [],
   "source": [
    "import pandas as pd\n",
    "from sklearn.model_selection import train_test_split\n",
    "from sklearn.neural_network import MLPClassifier\n",
    "from sklearn.metrics import confusion_matrix\n"
   ]
  },
  {
   "cell_type": "code",
   "execution_count": 23,
   "metadata": {},
   "outputs": [],
   "source": [
    "df = pd.read_csv(\"diabetes.csv\")\n",
    "\n",
    "(train_set, test_set) = train_test_split(\n",
    "    df.values, train_size=0.7, random_state=13)\n",
    "\n",
    "train_inputs = train_set[:, 0:8]\n",
    "train_classes = train_set[:, 8]\n",
    "test_inputs = test_set[:, 0:8]\n",
    "test_classes = test_set[:, 8]\n"
   ]
  },
  {
   "cell_type": "code",
   "execution_count": 27,
   "metadata": {},
   "outputs": [
    {
     "name": "stdout",
     "output_type": "stream",
     "text": [
      "0.6233766233766234\n",
      "[[144   0]\n",
      " [ 87   0]]\n"
     ]
    },
    {
     "name": "stderr",
     "output_type": "stream",
     "text": [
      "/usr/local/lib/python3.10/dist-packages/sklearn/neural_network/_multilayer_perceptron.py:686: ConvergenceWarning: Stochastic Optimizer: Maximum iterations (500) reached and the optimization hasn't converged yet.\n",
      "  warnings.warn(\n"
     ]
    }
   ],
   "source": [
    "clf = MLPClassifier(activation='relu', hidden_layer_sizes=(6, 3),\n",
    "                    max_iter=500, random_state=10)\n",
    "\n",
    "clf.fit(train_inputs, train_classes)\n",
    "\n",
    "score = clf.score(test_inputs, test_classes)\n",
    "\n",
    "predictions = clf.predict(test_inputs)\n",
    "\n",
    "matrix = confusion_matrix(test_classes, predictions)\n",
    "\n",
    "print(score)\n",
    "print(matrix)\n"
   ]
  }
 ],
 "metadata": {
  "kernelspec": {
   "display_name": "Python 3",
   "language": "python",
   "name": "python3"
  },
  "language_info": {
   "codemirror_mode": {
    "name": "ipython",
    "version": 3
   },
   "file_extension": ".py",
   "mimetype": "text/x-python",
   "name": "python",
   "nbconvert_exporter": "python",
   "pygments_lexer": "ipython3",
   "version": "3.10.6"
  },
  "orig_nbformat": 4
 },
 "nbformat": 4,
 "nbformat_minor": 2
}
