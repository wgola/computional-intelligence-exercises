{
 "cells": [
  {
   "cell_type": "code",
   "execution_count": 14,
   "metadata": {},
   "outputs": [],
   "source": [
    "import math\n"
   ]
  },
  {
   "cell_type": "code",
   "execution_count": 15,
   "metadata": {},
   "outputs": [],
   "source": [
    "def activator(x):\n",
    "    return 1 / (1 + math.pow(math.e, -x))\n"
   ]
  },
  {
   "cell_type": "code",
   "execution_count": 16,
   "metadata": {},
   "outputs": [],
   "source": [
    "def forwardPass(wiek, waga, wzrost):\n",
    "    hidden1 = (-0.46122 * wiek) + (0.97314 * waga) + \\\n",
    "        (-0.39203 * wzrost) + 0.80109\n",
    "    hidden1_po_aktywacji = activator(hidden1)\n",
    "    hidden2 = (0.78548 * wiek) + (2.10584 * waga) + \\\n",
    "        (-0.57847 * wzrost) + 0.43529\n",
    "    hidden2_po_aktywacji = activator(hidden2)\n",
    "    output = (-0.81546 * hidden1_po_aktywacji) + \\\n",
    "        (1.03775 * hidden2_po_aktywacji) - 0.2368\n",
    "    return output\n"
   ]
  },
  {
   "cell_type": "code",
   "execution_count": 17,
   "metadata": {},
   "outputs": [
    {
     "data": {
      "text/plain": [
       "0.7985341880063129"
      ]
     },
     "execution_count": 17,
     "metadata": {},
     "output_type": "execute_result"
    }
   ],
   "source": [
    "forwardPass(23, 75, 176)\n"
   ]
  },
  {
   "cell_type": "code",
   "execution_count": 18,
   "metadata": {},
   "outputs": [
    {
     "data": {
      "text/plain": [
       "0.8009499165011525"
      ]
     },
     "execution_count": 18,
     "metadata": {},
     "output_type": "execute_result"
    }
   ],
   "source": [
    "forwardPass(25, 67, 180)\n"
   ]
  }
 ],
 "metadata": {
  "kernelspec": {
   "display_name": "Python 3",
   "language": "python",
   "name": "python3"
  },
  "language_info": {
   "codemirror_mode": {
    "name": "ipython",
    "version": 3
   },
   "file_extension": ".py",
   "mimetype": "text/x-python",
   "name": "python",
   "nbconvert_exporter": "python",
   "pygments_lexer": "ipython3",
   "version": "3.10.6"
  },
  "orig_nbformat": 4
 },
 "nbformat": 4,
 "nbformat_minor": 2
}
