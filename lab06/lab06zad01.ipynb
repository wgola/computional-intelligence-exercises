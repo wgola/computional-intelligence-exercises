{
 "cells": [
  {
   "attachments": {},
   "cell_type": "markdown",
   "metadata": {},
   "source": [
    "Dodanie potrzebnych bibliotek\n"
   ]
  },
  {
   "cell_type": "code",
   "execution_count": 1,
   "metadata": {},
   "outputs": [],
   "source": [
    "import math\n"
   ]
  },
  {
   "attachments": {},
   "cell_type": "markdown",
   "metadata": {},
   "source": [
    "Stworzenie funkcji `activator` oraz `forwardPass` na podstawie wag z wyuczonej sieci neuronowej\n"
   ]
  },
  {
   "cell_type": "code",
   "execution_count": 2,
   "metadata": {},
   "outputs": [],
   "source": [
    "def activator(x):\n",
    "    return 1 / (1 + math.pow(math.e, -x))\n",
    "\n",
    "\n",
    "def forwardPass(wiek, waga, wzrost):\n",
    "    hidden1 = (-0.46122 * wiek) + (0.97314 * waga) + \\\n",
    "        (-0.39203 * wzrost) + 0.80109\n",
    "    hidden1_po_aktywacji = activator(hidden1)\n",
    "    hidden2 = (0.78548 * wiek) + (2.10584 * waga) + \\\n",
    "        (-0.57847 * wzrost) + 0.43529\n",
    "    hidden2_po_aktywacji = activator(hidden2)\n",
    "    output = (-0.81546 * hidden1_po_aktywacji) + \\\n",
    "        (1.03775 * hidden2_po_aktywacji) - 0.2368\n",
    "    return output\n"
   ]
  },
  {
   "attachments": {},
   "cell_type": "markdown",
   "metadata": {},
   "source": [
    "Przetestowanie funkcji `forwardPass` dla dwóch zestawów danych wejściowych\n"
   ]
  },
  {
   "cell_type": "code",
   "execution_count": 3,
   "metadata": {},
   "outputs": [
    {
     "name": "stdout",
     "output_type": "stream",
     "text": [
      "0.7985341880063129\n",
      "0.8009499165011525\n"
     ]
    }
   ],
   "source": [
    "print(forwardPass(23, 75, 176))\n",
    "\n",
    "print(forwardPass(25, 67, 180))\n"
   ]
  }
 ],
 "metadata": {
  "kernelspec": {
   "display_name": "Python 3",
   "language": "python",
   "name": "python3"
  },
  "language_info": {
   "codemirror_mode": {
    "name": "ipython",
    "version": 3
   },
   "file_extension": ".py",
   "mimetype": "text/x-python",
   "name": "python",
   "nbconvert_exporter": "python",
   "pygments_lexer": "ipython3",
   "version": "3.10.6"
  },
  "orig_nbformat": 4
 },
 "nbformat": 4,
 "nbformat_minor": 2
}
