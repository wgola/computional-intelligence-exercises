{
 "cells": [
  {
   "cell_type": "code",
   "execution_count": 1,
   "metadata": {},
   "outputs": [],
   "source": [
    "import pygad as pg\n",
    "import numpy as np\n",
    "import random\n",
    "import time\n"
   ]
  },
  {
   "cell_type": "code",
   "execution_count": 2,
   "metadata": {},
   "outputs": [],
   "source": [
    "def get_inputs(inputs_file):\n",
    "    result = {}\n",
    "    with open(inputs_file) as inputs:\n",
    "        nr = 1\n",
    "        for line in inputs:\n",
    "            line = line[:-1].split(\";\")\n",
    "            result[nr] = [int(number) for number in line]\n",
    "            nr += 1\n",
    "    return result\n"
   ]
  },
  {
   "cell_type": "code",
   "execution_count": 3,
   "metadata": {},
   "outputs": [],
   "source": [
    "small_inputs = get_inputs(\"small_inputs.txt\")\n",
    "medium_inputs = get_inputs(\"medium_inputs.txt\")\n",
    "big_inputs = get_inputs(\"big_inputs.txt\")\n"
   ]
  },
  {
   "cell_type": "code",
   "execution_count": 4,
   "metadata": {},
   "outputs": [
    {
     "name": "stdout",
     "output_type": "stream",
     "text": [
      "[-3, -2, 5] 0\n"
     ]
    }
   ],
   "source": [
    "def get_result(solution):\n",
    "    res = []\n",
    "    for i in range(len(solution)):\n",
    "        if solution[i] == 1:\n",
    "            res.append(set[i])\n",
    "    return res\n",
    "\n",
    "\n",
    "def fitness_func(solution, solution_idx):\n",
    "    if np.count_nonzero(np.array(solution) == 1) == 0:\n",
    "        return -np.Inf\n",
    "    else:\n",
    "        res = np.sum(np.multiply(set, solution))\n",
    "        return -abs(res)\n",
    "\n",
    "\n",
    "set = [-7, -3, -2, 9000, 5, 8]\n",
    "solution = [0, 1, 1, 0, 1, 0]\n",
    "\n",
    "fitness = fitness_func(solution, 0)\n",
    "\n",
    "result = get_result(solution)\n",
    "print(result, fitness)\n"
   ]
  },
  {
   "cell_type": "code",
   "execution_count": 5,
   "metadata": {},
   "outputs": [],
   "source": [
    "gene_space = [0, 1]\n",
    "num_genes = len(set)\n",
    "\n",
    "sol_per_pop = 200\n",
    "num_parents_mating = 100\n",
    "num_generations = 500\n",
    "keep_parents = 50\n",
    "\n",
    "parent_selection_type = \"sss\"\n",
    "crossover_type = \"single_point\"\n",
    "mutation_type = \"random\"\n",
    "mutation_num_genes = 1\n",
    "stop_criteria = \"reach_0\"\n"
   ]
  },
  {
   "cell_type": "code",
   "execution_count": 6,
   "metadata": {},
   "outputs": [],
   "source": [
    "def check_performance(inputs):\n",
    "    def fitness_func(solution, solution_idx):\n",
    "        if np.count_nonzero(np.array(solution) == 1) == 0:\n",
    "            return -np.Inf\n",
    "        else:\n",
    "            res = np.sum(np.multiply(set, solution))\n",
    "            return -abs(res)\n",
    "\n",
    "    results = {\n",
    "        \"time\": 0, \"avg_time\": 0,\n",
    "        \"good_solutions\": 0, \"good_solutions_percent\": 0\n",
    "    }\n",
    "\n",
    "    for _ in range(100):\n",
    "        set = inputs[random.randint(1, 5)]\n",
    "\n",
    "        start = time.time()\n",
    "\n",
    "        ga_instance = pg.GA(\n",
    "            gene_space=gene_space,\n",
    "            num_generations=num_generations,\n",
    "            num_parents_mating=num_parents_mating,\n",
    "            fitness_func=fitness_func,\n",
    "            sol_per_pop=sol_per_pop,\n",
    "            num_genes=num_genes,\n",
    "            parent_selection_type=parent_selection_type,\n",
    "            keep_parents=keep_parents,\n",
    "            crossover_type=crossover_type,\n",
    "            mutation_type=mutation_type,\n",
    "            mutation_num_genes=mutation_num_genes,\n",
    "            stop_criteria=stop_criteria\n",
    "        )\n",
    "\n",
    "        ga_instance.run()\n",
    "\n",
    "        end = time.time()\n",
    "\n",
    "        _, fitness, _ = ga_instance.best_solution()\n",
    "        if fitness == 0:\n",
    "            results[\"time\"] += end - start\n",
    "            results[\"good_solutions\"] += 1\n",
    "\n",
    "    results[\"avg_time\"] = results[\"time\"] / results[\"good_solutions\"]\n",
    "    results[\"good_solutions_percent\"] = results[\"good_solutions\"] / 100\n",
    "\n",
    "    return results\n"
   ]
  },
  {
   "cell_type": "code",
   "execution_count": null,
   "metadata": {},
   "outputs": [],
   "source": [
    "num_genes = 100\n",
    "sol_per_pop = 20\n",
    "num_parents_mating = 10\n",
    "num_generations = 100\n",
    "keep_parents = 6\n"
   ]
  },
  {
   "cell_type": "code",
   "execution_count": null,
   "metadata": {},
   "outputs": [],
   "source": [
    "small_inputs_results = check_performance(small_inputs)\n",
    "print(small_inputs_results)\n"
   ]
  },
  {
   "cell_type": "code",
   "execution_count": null,
   "metadata": {},
   "outputs": [],
   "source": [
    "num_genes = 1000\n",
    "sol_per_pop = 100\n",
    "num_parents_mating = 50\n",
    "num_generations = 300\n",
    "keep_parents = 30\n"
   ]
  },
  {
   "cell_type": "code",
   "execution_count": null,
   "metadata": {},
   "outputs": [],
   "source": [
    "medium_inputs_results = check_performance(medium_inputs)\n",
    "print(medium_inputs_results)\n"
   ]
  },
  {
   "cell_type": "code",
   "execution_count": 7,
   "metadata": {},
   "outputs": [],
   "source": [
    "num_genes = 5000\n",
    "sol_per_pop = 200\n",
    "num_parents_mating = 100\n",
    "num_generations = 500\n",
    "keep_parents = 50\n"
   ]
  },
  {
   "cell_type": "code",
   "execution_count": 8,
   "metadata": {},
   "outputs": [
    {
     "ename": "KeyboardInterrupt",
     "evalue": "",
     "output_type": "error",
     "traceback": [
      "\u001b[0;31m---------------------------------------------------------------------------\u001b[0m",
      "\u001b[0;31mKeyboardInterrupt\u001b[0m                         Traceback (most recent call last)",
      "Cell \u001b[0;32mIn[8], line 1\u001b[0m\n\u001b[0;32m----> 1\u001b[0m big_inputs_results \u001b[39m=\u001b[39m check_performance(big_inputs)\n\u001b[1;32m      2\u001b[0m \u001b[39mprint\u001b[39m(big_inputs_results)\n",
      "Cell \u001b[0;32mIn[6], line 34\u001b[0m, in \u001b[0;36mcheck_performance\u001b[0;34m(inputs)\u001b[0m\n\u001b[1;32m     17\u001b[0m start \u001b[39m=\u001b[39m time\u001b[39m.\u001b[39mtime()\n\u001b[1;32m     19\u001b[0m ga_instance \u001b[39m=\u001b[39m pg\u001b[39m.\u001b[39mGA(\n\u001b[1;32m     20\u001b[0m     gene_space\u001b[39m=\u001b[39mgene_space,\n\u001b[1;32m     21\u001b[0m     num_generations\u001b[39m=\u001b[39mnum_generations,\n\u001b[0;32m   (...)\u001b[0m\n\u001b[1;32m     31\u001b[0m     stop_criteria\u001b[39m=\u001b[39mstop_criteria\n\u001b[1;32m     32\u001b[0m )\n\u001b[0;32m---> 34\u001b[0m ga_instance\u001b[39m.\u001b[39;49mrun()\n\u001b[1;32m     36\u001b[0m end \u001b[39m=\u001b[39m time\u001b[39m.\u001b[39mtime()\n\u001b[1;32m     38\u001b[0m _, fitness, _ \u001b[39m=\u001b[39m ga_instance\u001b[39m.\u001b[39mbest_solution()\n",
      "File \u001b[0;32m~/.local/lib/python3.10/site-packages/pygad/pygad.py:1582\u001b[0m, in \u001b[0;36mGA.run\u001b[0;34m(self)\u001b[0m\n\u001b[1;32m   1580\u001b[0m         \u001b[39mraise\u001b[39;00m \u001b[39mTypeError\u001b[39;00m(\u001b[39m\"\u001b[39m\u001b[39mThe type of the iterable holding the selected parents\u001b[39m\u001b[39m'\u001b[39m\u001b[39m indices is expected to be (numpy.ndarray) but \u001b[39m\u001b[39m{last_generation_parents_indices_type}\u001b[39;00m\u001b[39m found.\u001b[39m\u001b[39m\"\u001b[39m\u001b[39m.\u001b[39mformat(last_generation_parents_indices_type\u001b[39m=\u001b[39m\u001b[39mtype\u001b[39m(\u001b[39mself\u001b[39m\u001b[39m.\u001b[39mlast_generation_parents_indices)))\n\u001b[1;32m   1581\u001b[0m \u001b[39melse\u001b[39;00m:\n\u001b[0;32m-> 1582\u001b[0m     \u001b[39mself\u001b[39m\u001b[39m.\u001b[39mlast_generation_parents, \u001b[39mself\u001b[39m\u001b[39m.\u001b[39mlast_generation_parents_indices \u001b[39m=\u001b[39m \u001b[39mself\u001b[39;49m\u001b[39m.\u001b[39;49mselect_parents(\u001b[39mself\u001b[39;49m\u001b[39m.\u001b[39;49mlast_generation_fitness, num_parents\u001b[39m=\u001b[39;49m\u001b[39mself\u001b[39;49m\u001b[39m.\u001b[39;49mnum_parents_mating)\n\u001b[1;32m   1584\u001b[0m \u001b[39m# Validate the output of the parent selection step: self.select_parents()\u001b[39;00m\n\u001b[1;32m   1585\u001b[0m \u001b[39mif\u001b[39;00m \u001b[39mself\u001b[39m\u001b[39m.\u001b[39mlast_generation_parents\u001b[39m.\u001b[39mshape \u001b[39m!=\u001b[39m (\u001b[39mself\u001b[39m\u001b[39m.\u001b[39mnum_parents_mating, \u001b[39mself\u001b[39m\u001b[39m.\u001b[39mnum_genes):\n",
      "File \u001b[0;32m~/.local/lib/python3.10/site-packages/pygad/pygad.py:1759\u001b[0m, in \u001b[0;36mGA.steady_state_selection\u001b[0;34m(self, fitness, num_parents)\u001b[0m\n\u001b[1;32m   1757\u001b[0m     parents \u001b[39m=\u001b[39m numpy\u001b[39m.\u001b[39mempty((num_parents, \u001b[39mself\u001b[39m\u001b[39m.\u001b[39mpopulation\u001b[39m.\u001b[39mshape[\u001b[39m1\u001b[39m]), dtype\u001b[39m=\u001b[39m\u001b[39mobject\u001b[39m)\n\u001b[1;32m   1758\u001b[0m \u001b[39mfor\u001b[39;00m parent_num \u001b[39min\u001b[39;00m \u001b[39mrange\u001b[39m(num_parents):\n\u001b[0;32m-> 1759\u001b[0m     parents[parent_num, :] \u001b[39m=\u001b[39m \u001b[39mself\u001b[39;49m\u001b[39m.\u001b[39;49mpopulation[fitness_sorted[parent_num], :]\u001b[39m.\u001b[39;49mcopy()\n\u001b[1;32m   1761\u001b[0m \u001b[39mreturn\u001b[39;00m parents, numpy\u001b[39m.\u001b[39marray(fitness_sorted[:num_parents])\n",
      "\u001b[0;31mKeyboardInterrupt\u001b[0m: "
     ]
    }
   ],
   "source": [
    "big_inputs_results = check_performance(big_inputs)\n",
    "print(big_inputs_results)\n"
   ]
  },
  {
   "cell_type": "code",
   "execution_count": 9,
   "metadata": {},
   "outputs": [],
   "source": [
    "from pyswarms.utils.plotters import plot_cost_history\n",
    "from pyswarms.discrete.binary import BinaryPSO\n",
    "import matplotlib.pyplot as plt\n"
   ]
  },
  {
   "cell_type": "code",
   "execution_count": 10,
   "metadata": {},
   "outputs": [],
   "source": [
    "def fitness_func(solution):\n",
    "    if np.count_nonzero(np.array(solution) == 1) == 0:\n",
    "        return np.Inf\n",
    "    else:\n",
    "        res = np.sum(np.multiply(set, solution))\n",
    "        return abs(res)\n",
    "\n",
    "\n",
    "def optimizer_function(x):\n",
    "    n_particles = x.shape[0]\n",
    "    j = [fitness_func(x[i]) for i in range(n_particles)]\n",
    "    return np.array(j)\n"
   ]
  },
  {
   "cell_type": "code",
   "execution_count": 11,
   "metadata": {},
   "outputs": [],
   "source": [
    "set = big_inputs[1]\n"
   ]
  },
  {
   "cell_type": "code",
   "execution_count": 12,
   "metadata": {},
   "outputs": [],
   "source": [
    "options = {'c1': 0.5, 'c2': 0.3, 'w': 0.9, 'k': 10, 'p': 1}\n"
   ]
  },
  {
   "cell_type": "code",
   "execution_count": 13,
   "metadata": {},
   "outputs": [
    {
     "name": "stdout",
     "output_type": "stream",
     "text": [
      "Best endurance: -3.0\n",
      "Parameters of the best solution: [0 1 1 ... 0 0 0]\n"
     ]
    },
    {
     "data": {
      "text/plain": [
       "<Axes: title={'center': 'Cost History'}, xlabel='Iterations', ylabel='Cost'>"
      ]
     },
     "execution_count": 13,
     "metadata": {},
     "output_type": "execute_result"
    },
    {
     "data": {
      "image/png": "[encoded data removed]",
      "text/plain": [
       "<Figure size 1000x800 with 1 Axes>"
      ]
     },
     "metadata": {},
     "output_type": "display_data"
    }
   ],
   "source": [
    "optimizer = BinaryPSO(\n",
    "    n_particles=40, dimensions=len(set), options=options)\n",
    "\n",
    "cost, pos = optimizer.optimize(optimizer_function, iters=2000, verbose=False)\n",
    "\n",
    "print(\"Best endurance: {}\".format(-cost))\n",
    "print(\"Parameters of the best solution: {}\".format(pos))\n",
    "plot_cost_history(optimizer.cost_history)\n"
   ]
  },
  {
   "cell_type": "code",
   "execution_count": null,
   "metadata": {},
   "outputs": [],
   "source": [
    "x = [str(random.randint(-5000, 5000)) for _ in range(5000)]\n",
    "\n",
    "print(\";\".join(x))\n"
   ]
  }
 ],
 "metadata": {
  "kernelspec": {
   "display_name": "Python 3",
   "language": "python",
   "name": "python3"
  },
  "language_info": {
   "codemirror_mode": {
    "name": "ipython",
    "version": 3
   },
   "file_extension": ".py",
   "mimetype": "text/x-python",
   "name": "python",
   "nbconvert_exporter": "python",
   "pygments_lexer": "ipython3",
   "version": "3.10.6"
  },
  "orig_nbformat": 4,
  "vscode": {
   "interpreter": {
    "hash": "916dbcbb3f70747c44a77c7bcd40155683ae19c65e1c03b4aa3499c5328201f1"
   }
  }
 },
 "nbformat": 4,
 "nbformat_minor": 2
}
