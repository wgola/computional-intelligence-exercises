{
 "cells": [
  {
   "cell_type": "code",
   "execution_count": 338,
   "metadata": {},
   "outputs": [],
   "source": [
    "import pygad as pg\n",
    "import numpy as np\n"
   ]
  },
  {
   "cell_type": "code",
   "execution_count": 339,
   "metadata": {},
   "outputs": [],
   "source": [
    "sudoku = [\n",
    "    [0, 9, 4, 0, 3, 0, 1, 0, 0],\n",
    "    [8, 1, 2, 7, 0, 0, 0, 9, 6],\n",
    "    [3, 0, 0, 1, 9, 0, 0, 0, 0],\n",
    "    [0, 3, 0, 9, 0, 4, 6, 0, 0],\n",
    "    [0, 0, 8, 6, 1, 3, 0, 4, 9],\n",
    "    [0, 0, 6, 2, 0, 0, 0, 0, 1],\n",
    "    [4, 0, 3, 5, 0, 0, 0, 0, 8],\n",
    "    [5, 0, 0, 0, 2, 0, 7, 0, 0],\n",
    "    [0, 6, 0, 0, 0, 8, 4, 1, 5]\n",
    "]\n"
   ]
  },
  {
   "cell_type": "code",
   "execution_count": 340,
   "metadata": {},
   "outputs": [
    {
     "name": "stdout",
     "output_type": "stream",
     "text": [
      "43\n"
     ]
    }
   ],
   "source": [
    "zeros = 0\n",
    "for row in sudoku:\n",
    "    for number in row:\n",
    "        if number == 0:\n",
    "            zeros += 1\n",
    "\n",
    "print(zeros)\n"
   ]
  },
  {
   "cell_type": "code",
   "execution_count": 341,
   "metadata": {},
   "outputs": [],
   "source": [
    "gene_space = {\"low\": 1, \"high\": 9, \"step\": 1}\n",
    "num_genes = zeros\n"
   ]
  },
  {
   "cell_type": "code",
   "execution_count": 342,
   "metadata": {},
   "outputs": [],
   "source": [
    "def fitness_func(solution, solution_idx):\n",
    "    solved_sudoku = []\n",
    "    i = 0\n",
    "    for row in sudoku:\n",
    "        solved_row = []\n",
    "        for number in row:\n",
    "            if number == 0:\n",
    "                solved_row.append(solution[i])\n",
    "                i += 1\n",
    "            else:\n",
    "                solved_row.append(number)\n",
    "        solved_sudoku.append(solved_row)\n",
    "\n",
    "    good_rows, good_cols, good_squares = 0, 0, 0\n",
    "\n",
    "    squares = [[], [], [],\n",
    "               [], [], [],\n",
    "               [], [], []]\n",
    "\n",
    "    for i in range(9):\n",
    "        tmp_row = []\n",
    "        tmp_col = []\n",
    "\n",
    "        for j in range(9):\n",
    "            tmp_row.append(solved_sudoku[i][j])\n",
    "            tmp_col.append(solved_sudoku[j][i])\n",
    "            if i in [0, 1, 2] and j in [0, 1, 2]:\n",
    "                squares[0].append(solved_sudoku[i][j])\n",
    "            elif i in [0, 1, 2] and j in [3, 4, 5]:\n",
    "                squares[3].append(solved_sudoku[i][j])\n",
    "            elif i in [0, 1, 2] and j in [6, 7, 8]:\n",
    "                squares[6].append(solved_sudoku[i][j])\n",
    "            elif i in [3, 4, 5] and j in [0, 1, 2]:\n",
    "                squares[1].append(solved_sudoku[i][j])\n",
    "            elif i in [3, 4, 5] and j in [3, 4, 5]:\n",
    "                squares[4].append(solved_sudoku[i][j])\n",
    "            elif i in [3, 4, 5] and j in [6, 7, 8]:\n",
    "                squares[7].append(solved_sudoku[i][j])\n",
    "            elif i in [6, 7, 8] and j in [0, 1, 2]:\n",
    "                squares[2].append(solved_sudoku[i][j])\n",
    "            elif i in [6, 7, 8] and j in [3, 4, 5]:\n",
    "                squares[5].append(solved_sudoku[i][j])\n",
    "            elif i in [6, 7, 8] and j in [6, 7, 8]:\n",
    "                squares[8].append(solved_sudoku[i][j])\n",
    "\n",
    "        if len(np.unique(tmp_row)) == 9:\n",
    "            good_rows += 1\n",
    "        if len(np.unique(tmp_col)) == 9:\n",
    "            good_cols += 1\n",
    "\n",
    "    for square in squares:\n",
    "        if len(np.unique(square)) == 9:\n",
    "            good_squares += 1\n",
    "\n",
    "    return good_rows + good_cols + good_squares\n"
   ]
  },
  {
   "cell_type": "code",
   "execution_count": 343,
   "metadata": {},
   "outputs": [],
   "source": [
    "def other_fitness(solution, solution_idx):\n",
    "    solved_sudoku = []\n",
    "    i = 0\n",
    "    for row in sudoku:\n",
    "        solved_row = []\n",
    "        for number in row:\n",
    "            if number == 0:\n",
    "                solved_row.append(solution[i])\n",
    "                i += 1\n",
    "            else:\n",
    "                solved_row.append(number)\n",
    "        solved_sudoku.append(solved_row)\n",
    "    \n",
    "    def check_row(i):\n",
    "        return len(np.unique(solved_sudoku[i])) == 9\n",
    "\n",
    "    def check_col(i):\n",
    "        tmp = []\n",
    "        for j in range(9):\n",
    "            tmp.append(solved_sudoku[j][i])\n",
    "        return len(np.unique(tmp)) == 9\n",
    "    \n",
    "    good_numbers = 0\n",
    "    for i in range(9):\n",
    "        for j in range(9):\n",
    "            if sudoku[i][j] == 0:\n",
    "                if check_row(i) and check_col(j):\n",
    "                    good_numbers += 1\n",
    "    \n",
    "    return good_numbers\n"
   ]
  },
  {
   "cell_type": "code",
   "execution_count": 344,
   "metadata": {},
   "outputs": [],
   "source": [
    "sol_per_pop = 350\n",
    "num_parents_mating = 175\n",
    "num_generations = 500\n",
    "keep_parents = 75\n",
    "parent_selection_type = \"sss\"\n",
    "crossover_type = \"single_point\"\n",
    "mutation_type = \"random\"\n",
    "mutation_percent_genes = 3\n",
    "\n",
    "\n",
    "ga_instance = pg.GA(\n",
    "    gene_space=gene_space,\n",
    "    num_generations=num_generations,\n",
    "    num_parents_mating=num_parents_mating,\n",
    "    fitness_func=other_fitness,\n",
    "    sol_per_pop=sol_per_pop,\n",
    "    num_genes=num_genes,\n",
    "    parent_selection_type=parent_selection_type,\n",
    "    keep_parents=keep_parents,\n",
    "    crossover_type=crossover_type,\n",
    "    mutation_type=mutation_type,\n",
    "    mutation_percent_genes=mutation_percent_genes,\n",
    "    # stop_criteria=\"reach_18\"\n",
    "    # parallel_processing=[\"process\", 20]\n",
    ")\n"
   ]
  },
  {
   "cell_type": "code",
   "execution_count": 345,
   "metadata": {},
   "outputs": [],
   "source": [
    "ga_instance.run()\n"
   ]
  },
  {
   "cell_type": "code",
   "execution_count": 346,
   "metadata": {},
   "outputs": [
    {
     "name": "stdout",
     "output_type": "stream",
     "text": [
      "8\n"
     ]
    },
    {
     "data": {
      "image/png": "[encoded data removed]",
      "text/plain": [
       "<Figure size 640x480 with 1 Axes>"
      ]
     },
     "metadata": {},
     "output_type": "display_data"
    },
    {
     "name": "stdout",
     "output_type": "stream",
     "text": [
      "\n",
      "[5. 8. 2. 6. 7. 4. 5. 3. 8. 2. 7. 5. 6. 4. 8. 1. 5. 7. 2. 7. 2. 5. 8. 4.\n",
      " 7. 6. 3. 1. 7. 6. 3. 8. 5. 5. 6. 4. 6. 8. 3. 1. 7. 3. 8.]\n"
     ]
    }
   ],
   "source": [
    "solution, solution_fitness, _ = ga_instance.best_solution()\n",
    "print(solution_fitness)\n",
    "ga_instance.plot_fitness()\n",
    "print()\n",
    "print(solution)"
   ]
  }
 ],
 "metadata": {
  "kernelspec": {
   "display_name": "Python 3",
   "language": "python",
   "name": "python3"
  },
  "language_info": {
   "codemirror_mode": {
    "name": "ipython",
    "version": 3
   },
   "file_extension": ".py",
   "mimetype": "text/x-python",
   "name": "python",
   "nbconvert_exporter": "python",
   "pygments_lexer": "ipython3",
   "version": "3.10.6"
  },
  "orig_nbformat": 4
 },
 "nbformat": 4,
 "nbformat_minor": 2
}
