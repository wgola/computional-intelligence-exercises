{
 "cells": [
  {
   "cell_type": "code",
   "execution_count": 1193,
   "metadata": {},
   "outputs": [],
   "source": [
    "import pygad as pg\n",
    "import numpy as np\n",
    "import random\n",
    "import time\n"
   ]
  },
  {
   "cell_type": "code",
   "execution_count": 1194,
   "metadata": {},
   "outputs": [],
   "source": [
    "def get_inputs(inputs_file):\n",
    "    result = {}\n",
    "    with open(inputs_file) as inputs:\n",
    "        nr = 1\n",
    "        for line in inputs:\n",
    "            line = line[:-1].split(\";\")\n",
    "            result[nr] = [int(number) for number in line]\n",
    "            nr += 1\n",
    "    return result\n"
   ]
  },
  {
   "cell_type": "code",
   "execution_count": 1195,
   "metadata": {},
   "outputs": [],
   "source": [
    "small_inputs = get_inputs(\"small_inputs.txt\")\n",
    "medium_inputs = get_inputs(\"medium_inputs.txt\")\n",
    "big_inputs = get_inputs(\"big_inputs.txt\")\n"
   ]
  },
  {
   "cell_type": "code",
   "execution_count": 1196,
   "metadata": {},
   "outputs": [
    {
     "name": "stdout",
     "output_type": "stream",
     "text": [
      "Zbiór początkowy: [-7, -3, -2, 9000, 5, 8]\n",
      "Znaleziony podzbiór: [-3, -2, 5]\n",
      "Suma wszystkich elementów podzbioru: 0\n"
     ]
    }
   ],
   "source": [
    "def get_result(solution):\n",
    "    res = []\n",
    "    for i in range(len(solution)):\n",
    "        if solution[i] == 1:\n",
    "            res.append(set[i])\n",
    "    return res\n",
    "\n",
    "\n",
    "def fitness_func(solution, solution_idx):\n",
    "    if np.count_nonzero(np.array(solution) == 1) == 0:\n",
    "        return -np.Inf\n",
    "    else:\n",
    "        res = np.sum(np.multiply(set, solution))\n",
    "        return -abs(res)\n",
    "\n",
    "\n",
    "set = [-7, -3, -2, 9000, 5, 8]\n",
    "solution = [0, 1, 1, 0, 1, 0]\n",
    "\n",
    "fitness = fitness_func(solution, 0)\n",
    "\n",
    "result = get_result(solution)\n",
    "\n",
    "print(\"Zbiór początkowy: {}\".format(set))\n",
    "print(\"Znaleziony podzbiór: {}\".format(result))\n",
    "print(\"Suma wszystkich elementów podzbioru: {}\".format(fitness))\n"
   ]
  },
  {
   "cell_type": "code",
   "execution_count": 1197,
   "metadata": {},
   "outputs": [],
   "source": [
    "gene_space = [0, 1]\n",
    "num_genes = len(set)\n",
    "\n",
    "parent_selection_type = \"sss\"\n",
    "crossover_type = \"single_point\"\n",
    "mutation_type = \"random\"\n",
    "mutation_num_genes = 1\n",
    "stop_criteria = \"reach_0\"\n"
   ]
  },
  {
   "cell_type": "code",
   "execution_count": 1198,
   "metadata": {},
   "outputs": [],
   "source": [
    "def create_algorithm(num_genes, sol_per_pop, num_parents_mating, num_generations, keep_parents):\n",
    "    return pg.GA(\n",
    "        gene_space=gene_space,\n",
    "        num_generations=num_generations,\n",
    "        num_parents_mating=num_parents_mating,\n",
    "        fitness_func=fitness_func,\n",
    "        sol_per_pop=sol_per_pop,\n",
    "        num_genes=num_genes,\n",
    "        parent_selection_type=parent_selection_type,\n",
    "        keep_parents=keep_parents,\n",
    "        crossover_type=crossover_type,\n",
    "        mutation_type=mutation_type,\n",
    "        mutation_num_genes=mutation_num_genes,\n",
    "        stop_criteria=stop_criteria\n",
    "    )\n"
   ]
  },
  {
   "cell_type": "code",
   "execution_count": 1199,
   "metadata": {},
   "outputs": [],
   "source": [
    "def show_result(time, fitness):\n",
    "    print(\"Czas wykonania algorytmu: {} sekund\".format(time))\n",
    "    print(\"Suma elementów znalezionego podzbioru: {} => {}\".format(int(fitness),\n",
    "                                                                   \"rozwiązano problem\" if fitness == 0 else \"nie rozwiązano problemu\"))\n"
   ]
  },
  {
   "cell_type": "code",
   "execution_count": 1200,
   "metadata": {},
   "outputs": [
    {
     "name": "stdout",
     "output_type": "stream",
     "text": [
      "Czas wykonania algorytmu: 0.06822848320007324 sekund\n",
      "Suma elementów znalezionego podzbioru: 0 => rozwiązano problem\n"
     ]
    }
   ],
   "source": [
    "set = small_inputs[random.randint(1, 5)]\n",
    "\n",
    "start = time.time()\n",
    "\n",
    "small_instance = create_algorithm(\n",
    "    num_genes=100,\n",
    "    sol_per_pop=20,\n",
    "    num_parents_mating=10,\n",
    "    num_generations=100,\n",
    "    keep_parents=6\n",
    ")\n",
    "\n",
    "small_instance.run()\n",
    "\n",
    "end = time.time()\n",
    "\n",
    "best_solution, fitness, _ = small_instance.best_solution()\n",
    "\n",
    "show_result(end - start, fitness)\n"
   ]
  },
  {
   "cell_type": "code",
   "execution_count": 1201,
   "metadata": {},
   "outputs": [
    {
     "name": "stdout",
     "output_type": "stream",
     "text": [
      "Czas wykonania algorytmu: 0.1295325756072998 sekund\n",
      "Suma elementów znalezionego podzbioru: 0 => rozwiązano problem\n"
     ]
    }
   ],
   "source": [
    "set = medium_inputs[random.randint(1, 5)]\n",
    "\n",
    "start = time.time()\n",
    "\n",
    "medium_instance = create_algorithm(\n",
    "    num_genes=1000,\n",
    "    sol_per_pop=100,\n",
    "    num_parents_mating=50,\n",
    "    num_generations=300,\n",
    "    keep_parents=30\n",
    ")\n",
    "\n",
    "medium_instance.run()\n",
    "\n",
    "end = time.time()\n",
    "\n",
    "best_solution, fitness, _ = medium_instance.best_solution()\n",
    "\n",
    "show_result(end - start, fitness)\n"
   ]
  },
  {
   "cell_type": "code",
   "execution_count": 1202,
   "metadata": {},
   "outputs": [
    {
     "name": "stdout",
     "output_type": "stream",
     "text": [
      "Czas wykonania algorytmu: 13.354780435562134 sekund\n",
      "Suma elementów znalezionego podzbioru: 0 => rozwiązano problem\n"
     ]
    }
   ],
   "source": [
    "set = big_inputs[random.randint(1, 5)]\n",
    "\n",
    "start = time.time()\n",
    "\n",
    "big_instance = create_algorithm(\n",
    "    num_genes=5000,\n",
    "    sol_per_pop=200,\n",
    "    num_parents_mating=100,\n",
    "    num_generations=500,\n",
    "    keep_parents=50\n",
    ")\n",
    "\n",
    "big_instance.run()\n",
    "\n",
    "end = time.time()\n",
    "\n",
    "best_solution, fitness, _ = big_instance.best_solution()\n",
    "\n",
    "show_result(end - start, fitness)\n"
   ]
  }
 ],
 "metadata": {
  "kernelspec": {
   "display_name": "Python 3",
   "language": "python",
   "name": "python3"
  },
  "language_info": {
   "codemirror_mode": {
    "name": "ipython",
    "version": 3
   },
   "file_extension": ".py",
   "mimetype": "text/x-python",
   "name": "python",
   "nbconvert_exporter": "python",
   "pygments_lexer": "ipython3",
   "version": "3.10.6"
  },
  "orig_nbformat": 4,
  "vscode": {
   "interpreter": {
    "hash": "916dbcbb3f70747c44a77c7bcd40155683ae19c65e1c03b4aa3499c5328201f1"
   }
  }
 },
 "nbformat": 4,
 "nbformat_minor": 2
}
