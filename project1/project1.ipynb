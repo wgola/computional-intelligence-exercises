{
 "cells": [
  {
   "cell_type": "code",
   "execution_count": 136,
   "metadata": {},
   "outputs": [],
   "source": [
    "import pygad as pg\n",
    "import numpy as np\n",
    "import random\n"
   ]
  },
  {
   "cell_type": "code",
   "execution_count": 137,
   "metadata": {},
   "outputs": [],
   "source": [
    "# set = [random.randint(-1000, 1000) for i in range(100)]\n",
    "set = [-7, -3, -2, 9000, 5, 8]\n",
    "T = 0\n"
   ]
  },
  {
   "cell_type": "code",
   "execution_count": 138,
   "metadata": {},
   "outputs": [],
   "source": [
    "gene_space = [0, 1]\n",
    "num_genes = len(set)\n"
   ]
  },
  {
   "cell_type": "code",
   "execution_count": 139,
   "metadata": {},
   "outputs": [],
   "source": [
    "def fitness_func(solution, solution_idx):\n",
    "    for i in solution:\n",
    "        if i == 1:\n",
    "            res = np.sum([a*b for a, b in zip(solution, set)])\n",
    "            return -abs(T-res)\n",
    "    return -100\n"
   ]
  },
  {
   "cell_type": "code",
   "execution_count": 140,
   "metadata": {},
   "outputs": [
    {
     "data": {
      "text/plain": [
       "-8"
      ]
     },
     "execution_count": 140,
     "metadata": {},
     "output_type": "execute_result"
    }
   ],
   "source": [
    "fitness_func([0, 1, 1, 0, 1, 1], 0)\n"
   ]
  },
  {
   "cell_type": "code",
   "execution_count": 141,
   "metadata": {},
   "outputs": [],
   "source": [
    "sol_per_pop = 100\n",
    "num_parents_mating = 50\n",
    "num_generations = 1000\n",
    "keep_parents = 25\n",
    "parent_selection_type = \"sss\"\n",
    "crossover_type = \"single_point\"\n",
    "mutation_type = \"random\"\n",
    "mutation_num_genes = 1\n",
    "stop_criteria = \"reach_0\"\n",
    "\n",
    "ga_instance = pg.GA(\n",
    "    gene_space=gene_space,\n",
    "    num_generations=num_generations,\n",
    "    num_parents_mating=num_parents_mating,\n",
    "    fitness_func=fitness_func,\n",
    "    sol_per_pop=sol_per_pop,\n",
    "    num_genes=num_genes,\n",
    "    parent_selection_type=parent_selection_type,\n",
    "    keep_parents=keep_parents,\n",
    "    crossover_type=crossover_type,\n",
    "    mutation_type=mutation_type,\n",
    "    mutation_num_genes=mutation_num_genes,\n",
    "    stop_criteria=stop_criteria\n",
    ")\n"
   ]
  },
  {
   "cell_type": "code",
   "execution_count": 142,
   "metadata": {},
   "outputs": [
    {
     "name": "stdout",
     "output_type": "stream",
     "text": [
      "(array([0., 1., 1., 0., 1., 0.]), -0.0, 0)\n"
     ]
    },
    {
     "data": {
      "image/png": "[encoded data removed]",
      "text/plain": [
       "<Figure size 640x480 with 1 Axes>"
      ]
     },
     "metadata": {},
     "output_type": "display_data"
    },
    {
     "name": "stdout",
     "output_type": "stream",
     "text": [
      "\n"
     ]
    }
   ],
   "source": [
    "ga_instance.run()\n",
    "\n",
    "x = ga_instance.best_solution()\n",
    "print(x)\n",
    "\n",
    "ga_instance.plot_fitness()\n",
    "print()\n"
   ]
  },
  {
   "cell_type": "code",
   "execution_count": 143,
   "metadata": {},
   "outputs": [
    {
     "name": "stdout",
     "output_type": "stream",
     "text": [
      "(-3) + (-2) + (5) = 0\n",
      "True\n"
     ]
    }
   ],
   "source": [
    "y = []\n",
    "y2 = []\n",
    "for i in range(len(x[0])):\n",
    "    if x[0][i]:\n",
    "        y2.append(set[i])\n",
    "        y.append(\"(\"+str(set[i])+\")\")\n",
    "\n",
    "print(\" + \".join(y) + \" = \" + str(T))\n",
    "\n",
    "print(np.sum(y2) == T)\n"
   ]
  },
  {
   "cell_type": "code",
   "execution_count": 144,
   "metadata": {},
   "outputs": [],
   "source": [
    "from pyswarms.utils.plotters import plot_cost_history\n",
    "from pyswarms.discrete.binary import BinaryPSO\n",
    "import matplotlib.pyplot as plt\n"
   ]
  },
  {
   "cell_type": "code",
   "execution_count": 145,
   "metadata": {},
   "outputs": [],
   "source": [
    "def sum_of(y):\n",
    "    for i in y:\n",
    "        if i == 1:\n",
    "            res = np.sum([a*b for a, b in zip(y, set)])\n",
    "            return abs(T-res)\n",
    "    return 100\n"
   ]
  },
  {
   "cell_type": "code",
   "execution_count": 146,
   "metadata": {},
   "outputs": [],
   "source": [
    "def optimizer_function(x):\n",
    "    n_particles = x.shape[0]\n",
    "    j = [sum_of(x[i]) for i in range(n_particles)]\n",
    "    return np.array(j)\n"
   ]
  },
  {
   "cell_type": "code",
   "execution_count": 147,
   "metadata": {},
   "outputs": [],
   "source": [
    "options = {'c1': 0.5, 'c2': 0.3, 'w': 0.9, 'k': 2, 'p': 1.2}\n"
   ]
  },
  {
   "cell_type": "code",
   "execution_count": 148,
   "metadata": {},
   "outputs": [
    {
     "name": "stdout",
     "output_type": "stream",
     "text": [
      "Best endurance: 0.0\n",
      "Parameters of the best solution: [0 1 1 0 1 0]\n"
     ]
    }
   ],
   "source": [
    "optimizer = BinaryPSO(\n",
    "    n_particles=10, dimensions=len(set), options=options)\n",
    "\n",
    "cost, pos = optimizer.optimize(optimizer_function, iters=1000, verbose=False)\n",
    "\n",
    "print(\"Best endurance: {}\".format(cost))\n",
    "print(\"Parameters of the best solution: {}\".format(pos))\n"
   ]
  },
  {
   "cell_type": "code",
   "execution_count": 149,
   "metadata": {},
   "outputs": [
    {
     "name": "stdout",
     "output_type": "stream",
     "text": [
      "[0. 1. 1. 0. 1. 0.]\n",
      "[0 1 1 0 1 0]\n"
     ]
    }
   ],
   "source": [
    "print(x[0])\n",
    "print(pos)\n"
   ]
  }
 ],
 "metadata": {
  "kernelspec": {
   "display_name": "Python 3",
   "language": "python",
   "name": "python3"
  },
  "language_info": {
   "codemirror_mode": {
    "name": "ipython",
    "version": 3
   },
   "file_extension": ".py",
   "mimetype": "text/x-python",
   "name": "python",
   "nbconvert_exporter": "python",
   "pygments_lexer": "ipython3",
   "version": "3.10.6"
  },
  "orig_nbformat": 4
 },
 "nbformat": 4,
 "nbformat_minor": 2
}
