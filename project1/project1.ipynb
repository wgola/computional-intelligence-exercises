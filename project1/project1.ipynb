{
 "cells": [
  {
   "cell_type": "code",
   "execution_count": 64,
   "metadata": {},
   "outputs": [],
   "source": [
    "import pandas as pd\n",
    "import pygad as pg\n",
    "import numpy as np\n",
    "import random\n",
    "import time\n"
   ]
  },
  {
   "cell_type": "code",
   "execution_count": 65,
   "metadata": {},
   "outputs": [],
   "source": [
    "def get_inputs(inputs_file):\n",
    "    result = {}\n",
    "    with open(inputs_file) as inputs:\n",
    "        nr = 1\n",
    "        for line in inputs:\n",
    "            line = line[:-1].split(\";\")\n",
    "            result[nr] = [int(number) for number in line]\n",
    "            nr += 1\n",
    "    return result\n"
   ]
  },
  {
   "cell_type": "code",
   "execution_count": 66,
   "metadata": {},
   "outputs": [],
   "source": [
    "small_inputs = get_inputs(\"small_inputs.txt\")\n",
    "medium_inputs = get_inputs(\"medium_inputs.txt\")\n",
    "big_inputs = get_inputs(\"big_inputs.txt\")\n"
   ]
  },
  {
   "cell_type": "code",
   "execution_count": 67,
   "metadata": {},
   "outputs": [
    {
     "name": "stdout",
     "output_type": "stream",
     "text": [
      "Zbiór początkowy: [-7, -3, -2, 9000, 5, 8]\n",
      "Znaleziony podzbiór: [-3, -2, 5]\n",
      "Suma wszystkich elementów podzbioru: 0\n"
     ]
    }
   ],
   "source": [
    "def get_result(solution):\n",
    "    res = []\n",
    "    for i in range(len(solution)):\n",
    "        if solution[i] == 1:\n",
    "            res.append(set[i])\n",
    "    return res\n",
    "\n",
    "\n",
    "def fitness_func(solution, solution_idx):\n",
    "    if np.count_nonzero(np.array(solution) == 1) == 0:\n",
    "        return -np.Inf\n",
    "    else:\n",
    "        res = np.sum(np.multiply(set, solution))\n",
    "        return -abs(res)\n",
    "\n",
    "\n",
    "set = [-7, -3, -2, 9000, 5, 8]\n",
    "solution = [0, 1, 1, 0, 1, 0]\n",
    "\n",
    "fitness = fitness_func(solution, 0)\n",
    "\n",
    "result = get_result(solution)\n",
    "\n",
    "print(\"Zbiór początkowy: {}\".format(set))\n",
    "print(\"Znaleziony podzbiór: {}\".format(result))\n",
    "print(\"Suma wszystkich elementów podzbioru: {}\".format(fitness))\n"
   ]
  },
  {
   "cell_type": "code",
   "execution_count": 68,
   "metadata": {},
   "outputs": [],
   "source": [
    "gene_space = [0, 1]\n",
    "num_genes = len(set)\n",
    "\n",
    "parent_selection_type = \"sss\"\n",
    "crossover_type = \"single_point\"\n",
    "mutation_type = \"random\"\n",
    "mutation_num_genes = 1\n",
    "stop_criteria = \"reach_0\"\n"
   ]
  },
  {
   "cell_type": "code",
   "execution_count": 69,
   "metadata": {},
   "outputs": [],
   "source": [
    "def create_ga_instance(num_genes, sol_per_pop, num_parents_mating, num_generations, keep_parents):\n",
    "    return pg.GA(\n",
    "        gene_space=gene_space,\n",
    "        num_generations=num_generations,\n",
    "        num_parents_mating=num_parents_mating,\n",
    "        fitness_func=fitness_func,\n",
    "        sol_per_pop=sol_per_pop,\n",
    "        num_genes=num_genes,\n",
    "        parent_selection_type=parent_selection_type,\n",
    "        keep_parents=keep_parents,\n",
    "        crossover_type=crossover_type,\n",
    "        mutation_type=mutation_type,\n",
    "        mutation_num_genes=mutation_num_genes,\n",
    "        stop_criteria=stop_criteria\n",
    "    )\n"
   ]
  },
  {
   "cell_type": "code",
   "execution_count": 70,
   "metadata": {},
   "outputs": [],
   "source": [
    "def show_result(time, fitness):\n",
    "    print(\"Czas wykonania algorytmu: {} sekund\".format(time))\n",
    "    print(\"Suma elementów znalezionego podzbioru: {} => {}\"\n",
    "          .format(int(fitness), \"rozwiązano problem\" if fitness == 0 else \"nie rozwiązano problemu\"))\n"
   ]
  },
  {
   "cell_type": "code",
   "execution_count": 71,
   "metadata": {},
   "outputs": [
    {
     "name": "stdout",
     "output_type": "stream",
     "text": [
      "Czas wykonania algorytmu: 0.02973175048828125 sekund\n",
      "Suma elementów znalezionego podzbioru: 0 => rozwiązano problem\n"
     ]
    }
   ],
   "source": [
    "set = small_inputs[random.randint(1, 5)]\n",
    "\n",
    "start = time.time()\n",
    "\n",
    "small_instance = create_ga_instance(\n",
    "    num_genes=100,\n",
    "    sol_per_pop=20,\n",
    "    num_parents_mating=10,\n",
    "    num_generations=100,\n",
    "    keep_parents=6\n",
    ")\n",
    "\n",
    "small_instance.run()\n",
    "\n",
    "end = time.time()\n",
    "\n",
    "best_solution, fitness, _ = small_instance.best_solution()\n",
    "\n",
    "show_result(end - start, fitness)\n"
   ]
  },
  {
   "cell_type": "code",
   "execution_count": 72,
   "metadata": {},
   "outputs": [
    {
     "name": "stdout",
     "output_type": "stream",
     "text": [
      "Czas wykonania algorytmu: 0.3085916042327881 sekund\n",
      "Suma elementów znalezionego podzbioru: 0 => rozwiązano problem\n"
     ]
    }
   ],
   "source": [
    "set = medium_inputs[random.randint(1, 5)]\n",
    "\n",
    "start = time.time()\n",
    "\n",
    "medium_instance = create_ga_instance(\n",
    "    num_genes=1000,\n",
    "    sol_per_pop=100,\n",
    "    num_parents_mating=50,\n",
    "    num_generations=300,\n",
    "    keep_parents=30\n",
    ")\n",
    "\n",
    "medium_instance.run()\n",
    "\n",
    "end = time.time()\n",
    "\n",
    "best_solution, fitness, _ = medium_instance.best_solution()\n",
    "\n",
    "show_result(end - start, fitness)\n"
   ]
  },
  {
   "cell_type": "code",
   "execution_count": 73,
   "metadata": {},
   "outputs": [
    {
     "name": "stdout",
     "output_type": "stream",
     "text": [
      "Czas wykonania algorytmu: 22.364306688308716 sekund\n",
      "Suma elementów znalezionego podzbioru: 0 => rozwiązano problem\n"
     ]
    }
   ],
   "source": [
    "set = big_inputs[random.randint(1, 5)]\n",
    "\n",
    "start = time.time()\n",
    "\n",
    "big_instance = create_ga_instance(\n",
    "    num_genes=5000,\n",
    "    sol_per_pop=200,\n",
    "    num_parents_mating=100,\n",
    "    num_generations=500,\n",
    "    keep_parents=50\n",
    ")\n",
    "\n",
    "big_instance.run()\n",
    "\n",
    "end = time.time()\n",
    "\n",
    "best_solution, fitness, _ = big_instance.best_solution()\n",
    "\n",
    "show_result(end - start, fitness)\n"
   ]
  },
  {
   "cell_type": "code",
   "execution_count": 74,
   "metadata": {},
   "outputs": [],
   "source": [
    "ga_times = pd.read_csv(\"ga_times.csv\")\n",
    "\n",
    "\n",
    "def ga_data(input):\n",
    "    column = ga_times[ga_times[input] != 0][input]\n",
    "    result = {}\n",
    "    result[\"avg_time\"] = column.mean()\n",
    "    result[\"accuraccy\"] = len(column) / 100\n",
    "    result[\"min_time\"] = column.min()\n",
    "    result[\"max_time\"] = column.max()\n",
    "    return result\n"
   ]
  },
  {
   "cell_type": "code",
   "execution_count": 75,
   "metadata": {},
   "outputs": [
    {
     "name": "stdout",
     "output_type": "stream",
     "text": [
      "{'avg_time': 0.021550991535186723, 'accuraccy': 1.0, 'min_time': 0.00447678565979, 'max_time': 0.0682284832000732}\n"
     ]
    }
   ],
   "source": [
    "small_inputs_results = ga_data(\"small_input\")\n",
    "print(small_inputs_results)\n"
   ]
  },
  {
   "cell_type": "code",
   "execution_count": 76,
   "metadata": {},
   "outputs": [
    {
     "name": "stdout",
     "output_type": "stream",
     "text": [
      "{'avg_time': 0.8110143566131591, 'accuraccy': 1.0, 'min_time': 0.0252683162689209, 'max_time': 3.8786752223968506}\n"
     ]
    }
   ],
   "source": [
    "medium_inputs_results = ga_data(\"medium_input\")\n",
    "print(medium_inputs_results)\n"
   ]
  },
  {
   "cell_type": "code",
   "execution_count": 77,
   "metadata": {},
   "outputs": [
    {
     "name": "stdout",
     "output_type": "stream",
     "text": [
      "{'avg_time': 16.343913774297693, 'accuraccy': 0.99, 'min_time': 0.1766080856323242, 'max_time': 48.67165207862854}\n"
     ]
    }
   ],
   "source": [
    "big_inputs_results = ga_data(\"big_input\")\n",
    "print(big_inputs_results)\n"
   ]
  },
  {
   "attachments": {},
   "cell_type": "markdown",
   "metadata": {},
   "source": [
    "| Rozmiar danych wejściowych |         Małe          |       Średnie       |        Duże         |\n",
    "| :------------------------: | :-------------------: | :-----------------: | :-----------------: |\n",
    "|   Skuteczność algorytmu    |         100%          |        100%         |         99%         |\n",
    "|    Najszybsze wykonanie    |   0.00447678565979s   | 0.0252683162689209s | 0.1766080856323242s |\n",
    "|    Najdłuższe wykonanie    |  0.0682284832000732s  | 3.8786752223968506s | 48.67165207862854s  |\n",
    "|   Średni czas wykonania    | 0.021550991535186723s | 0.8110143566131591s | 16.343913774297693s |\n"
   ]
  },
  {
   "cell_type": "code",
   "execution_count": 78,
   "metadata": {},
   "outputs": [],
   "source": [
    "from pyswarms.discrete.binary import BinaryPSO\n"
   ]
  },
  {
   "cell_type": "code",
   "execution_count": 79,
   "metadata": {},
   "outputs": [],
   "source": [
    "def optimizer_function(x):\n",
    "    n_particles = x.shape[0]\n",
    "    j = [-fitness_func(x[i], _) for i in range(n_particles)]\n",
    "    return np.array(j)\n"
   ]
  },
  {
   "cell_type": "code",
   "execution_count": 80,
   "metadata": {},
   "outputs": [],
   "source": [
    "options = {'c1': 0.5, 'c2': 0.3, 'w': 0.9, 'k': 10, 'p': 1}\n"
   ]
  },
  {
   "cell_type": "code",
   "execution_count": 81,
   "metadata": {},
   "outputs": [
    {
     "name": "stdout",
     "output_type": "stream",
     "text": [
      "Czas wykonania algorytmu: 0.1991121768951416 sekund\n",
      "Suma elementów znalezionego podzbioru: 0 => rozwiązano problem\n"
     ]
    }
   ],
   "source": [
    "set = small_inputs[random.randint(1, 5)]\n",
    "\n",
    "start = time.time()\n",
    "\n",
    "optimizer = BinaryPSO(n_particles=10, dimensions=len(set), options=options)\n",
    "\n",
    "cost, pos = optimizer.optimize(optimizer_function, iters=500, verbose=False)\n",
    "\n",
    "end = time.time()\n",
    "\n",
    "show_result(end - start, cost)\n"
   ]
  },
  {
   "cell_type": "code",
   "execution_count": 82,
   "metadata": {},
   "outputs": [
    {
     "name": "stdout",
     "output_type": "stream",
     "text": [
      "Czas wykonania algorytmu: 6.19307279586792 sekund\n",
      "Suma elementów znalezionego podzbioru: 0 => rozwiązano problem\n"
     ]
    }
   ],
   "source": [
    "set = medium_inputs[random.randint(1, 5)]\n",
    "\n",
    "options['k'] = 30\n",
    "\n",
    "start = time.time()\n",
    "\n",
    "optimizer = BinaryPSO(n_particles=30, dimensions=len(set), options=options)\n",
    "\n",
    "cost, pos = optimizer.optimize(optimizer_function, iters=1250, verbose=False)\n",
    "\n",
    "end = time.time()\n",
    "\n",
    "show_result(end - start, cost)\n"
   ]
  },
  {
   "cell_type": "code",
   "execution_count": 83,
   "metadata": {},
   "outputs": [
    {
     "name": "stdout",
     "output_type": "stream",
     "text": [
      "Czas wykonania algorytmu: 66.82745933532715 sekund\n",
      "Suma elementów znalezionego podzbioru: 8 => nie rozwiązano problemu\n"
     ]
    }
   ],
   "source": [
    "set = big_inputs[random.randint(1, 5)]\n",
    "\n",
    "options['k'] = 50\n",
    "\n",
    "start = time.time()\n",
    "\n",
    "optimizer = BinaryPSO(n_particles=50, dimensions=len(set), options=options)\n",
    "\n",
    "cost, pos = optimizer.optimize(optimizer_function, iters=1250, verbose=False)\n",
    "\n",
    "end = time.time()\n",
    "\n",
    "show_result(end - start, cost)\n"
   ]
  },
  {
   "cell_type": "code",
   "execution_count": 85,
   "metadata": {},
   "outputs": [],
   "source": [
    "pso_times = pd.read_csv(\"pso_times.csv\")\n",
    "\n",
    "\n",
    "def pso_data(input):\n",
    "    column = pso_times[pso_times[input] != 0][input]\n",
    "    result = {}\n",
    "    result[\"avg_time\"] = column.mean()\n",
    "    result[\"accuraccy\"] = len(column) / 100\n",
    "    result[\"min_time\"] = column.min()\n",
    "    result[\"max_time\"] = column.max()\n",
    "    return result\n"
   ]
  },
  {
   "cell_type": "code",
   "execution_count": 86,
   "metadata": {},
   "outputs": [
    {
     "name": "stdout",
     "output_type": "stream",
     "text": [
      "{'avg_time': 0.22535311222076415, 'accuraccy': 1.0, 'min_time': 0.1616637706756591, 'max_time': 0.3144810199737549}\n",
      "{'avg_time': 5.390086862776014, 'accuraccy': 0.72, 'min_time': 4.791399717330933, 'max_time': 6.987470388412476}\n",
      "{'avg_time': 47.398172673057104, 'accuraccy': 0.17, 'min_time': 45.748215675354, 'max_time': 49.09682369232178}\n"
     ]
    }
   ],
   "source": [
    "print(pso_data(\"small_input\"))\n",
    "print(pso_data(\"medium_input\"))\n",
    "print(pso_data(\"big_input\"))\n"
   ]
  },
  {
   "attachments": {},
   "cell_type": "markdown",
   "metadata": {},
   "source": [
    "| Rozmiar danych wejściowych |         Małe         |      Średnie       |        Duże         |\n",
    "| :------------------------: | :------------------: | :----------------: | :-----------------: |\n",
    "|   Skuteczność algorytmu    |         100%         |        72%         |         17%         |\n",
    "|    Najszybsze wykonanie    | 0.1616637706756591s  | 4.791399717330933s |  45.748215675354s   |\n",
    "|    Najdłuższe wykonanie    | 0.3144810199737549s  | 6.987470388412476s | 49.09682369232178s  |\n",
    "|   Średni czas wykonania    | 0.22535311222076415s | 5.390086862776014s | 47.398172673057104s |\n"
   ]
  }
 ],
 "metadata": {
  "kernelspec": {
   "display_name": "Python 3",
   "language": "python",
   "name": "python3"
  },
  "language_info": {
   "codemirror_mode": {
    "name": "ipython",
    "version": 3
   },
   "file_extension": ".py",
   "mimetype": "text/x-python",
   "name": "python",
   "nbconvert_exporter": "python",
   "pygments_lexer": "ipython3",
   "version": "3.10.6"
  },
  "orig_nbformat": 4,
  "vscode": {
   "interpreter": {
    "hash": "916dbcbb3f70747c44a77c7bcd40155683ae19c65e1c03b4aa3499c5328201f1"
   }
  }
 },
 "nbformat": 4,
 "nbformat_minor": 2
}
