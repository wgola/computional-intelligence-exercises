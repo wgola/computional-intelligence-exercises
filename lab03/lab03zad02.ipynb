{
 "cells": [
  {
   "cell_type": "code",
   "execution_count": 38,
   "metadata": {},
   "outputs": [],
   "source": [
    "import pygad\n",
    "import numpy as np\n"
   ]
  },
  {
   "cell_type": "code",
   "execution_count": 39,
   "metadata": {},
   "outputs": [],
   "source": [
    "labirynth = [\n",
    "    [1, 1, 1, 1, 1, 1, 1, 1, 1, 1, 1, 1],\n",
    "    [1, 0, 0, 0, 1, 0, 0, 0, 1, 0, 0, 1],\n",
    "    [1, 1, 1, 0, 0, 0, 1, 0, 1, 1, 0, 1],\n",
    "    [1, 0, 0, 0, 1, 0, 1, 0, 0, 0, 0, 1],\n",
    "    [1, 0, 1, 0, 1, 1, 0, 0, 1, 1, 0, 1],\n",
    "    [1, 0, 0, 1, 1, 0, 0, 0, 1, 0, 0, 1],\n",
    "    [1, 0, 0, 0, 0, 0, 1, 0, 0, 0, 1, 1],\n",
    "    [1, 0, 1, 0, 0, 1, 1, 0, 1, 0, 0, 1],\n",
    "    [1, 0, 1, 1, 1, 0, 0, 0, 1, 1, 0, 1],\n",
    "    [1, 0, 1, 0, 1, 1, 0, 1, 0, 1, 0, 1],\n",
    "    [1, 0, 1, 0, 0, 0, 0, 0, 0, 0, 0, 1],\n",
    "    [1, 1, 1, 1, 1, 1, 1, 1, 1, 1, 1, 1],\n",
    "]\n",
    "\n",
    "max_moves = 30\n"
   ]
  },
  {
   "cell_type": "code",
   "execution_count": 40,
   "metadata": {},
   "outputs": [],
   "source": [
    "gene_space = [0, 1, 2, 3]\n"
   ]
  },
  {
   "cell_type": "code",
   "execution_count": 41,
   "metadata": {},
   "outputs": [],
   "source": [
    "def fitness_function(solution, solution_idx):\n",
    "    def calculate_move(move, x, y, wrong):\n",
    "        match move:\n",
    "            case 0:\n",
    "                if labirynth[x][y + 1]:\n",
    "                    wrong += 1\n",
    "                else:\n",
    "                    y += 1\n",
    "            case 1:\n",
    "                if labirynth[x + 1][y]:\n",
    "                    wrong += 1\n",
    "                else:\n",
    "                    x += 1\n",
    "            case 2:\n",
    "                if labirynth[x][y - 1]:\n",
    "                    wrong += 1\n",
    "                else:\n",
    "                    y -= 1\n",
    "            case _:\n",
    "                if labirynth[x - 1][y]:\n",
    "                    wrong += 1\n",
    "                else:\n",
    "                    x -= 1\n",
    "        return x, y, wrong\n",
    "\n",
    "    position_x = 1\n",
    "    position_y = 1\n",
    "    wrong_moves = 0\n",
    "\n",
    "    for move in solution:\n",
    "        position_x, position_y, wrong_moves = calculate_move(\n",
    "            move, position_x, position_y, wrong_moves)\n",
    "\n",
    "    distance_from_exit = abs(position_x - 10) + abs(position_y - 10)\n",
    "\n",
    "    return -(distance_from_exit + wrong_moves)\n"
   ]
  },
  {
   "cell_type": "code",
   "execution_count": 42,
   "metadata": {},
   "outputs": [],
   "source": [
    "sol_per_pop = 30\n",
    "num_genes = 30\n"
   ]
  },
  {
   "cell_type": "code",
   "execution_count": 43,
   "metadata": {},
   "outputs": [],
   "source": [
    "num_parents_mating = 15\n",
    "num_generations = 50\n",
    "keep_parents = 4\n"
   ]
  },
  {
   "cell_type": "code",
   "execution_count": 44,
   "metadata": {},
   "outputs": [],
   "source": [
    "parent_selection_type = \"sss\"\n",
    "crossover_type = \"single_point\"\n"
   ]
  },
  {
   "cell_type": "code",
   "execution_count": 45,
   "metadata": {},
   "outputs": [],
   "source": [
    "mutation_type = \"random\"\n",
    "mutation_percent_genes = 17\n"
   ]
  },
  {
   "cell_type": "code",
   "execution_count": 46,
   "metadata": {},
   "outputs": [],
   "source": [
    "ga_instance = pygad.GA(\n",
    "    gene_space=gene_space,\n",
    "    num_generations=num_generations,\n",
    "    num_parents_mating=num_parents_mating,\n",
    "    fitness_func=fitness_function,\n",
    "    sol_per_pop=sol_per_pop,\n",
    "    num_genes=num_genes,\n",
    "    parent_selection_type=parent_selection_type,\n",
    "    keep_parents=keep_parents,\n",
    "    crossover_type=crossover_type,\n",
    "    mutation_type=mutation_type,\n",
    "    mutation_percent_genes=mutation_percent_genes\n",
    ")\n",
    "\n",
    "ga_instance.run()\n"
   ]
  },
  {
   "cell_type": "code",
   "execution_count": 47,
   "metadata": {},
   "outputs": [
    {
     "name": "stdout",
     "output_type": "stream",
     "text": [
      "Parameters of the best solution : [2. 0. 0. 2. 0. 3. 1. 3. 1. 0. 3. 0. 3. 0. 2. 0. 0. 0. 1. 1. 2. 2. 1. 3.\n",
      " 2. 0. 0. 1. 0. 1.]\n",
      "Fitness value of the best solution = -14\n"
     ]
    }
   ],
   "source": [
    "solution, solution_fitness, solution_idx = ga_instance.best_solution()\n",
    "print(\"Parameters of the best solution : {solution}\".format(solution=solution))\n",
    "print(\"Fitness value of the best solution = {solution_fitness}\".format(\n",
    "    solution_fitness=solution_fitness))\n"
   ]
  },
  {
   "cell_type": "code",
   "execution_count": 48,
   "metadata": {},
   "outputs": [
    {
     "data": {
      "image/png": "[encoded data removed]",
      "text/plain": [
       "<Figure size 640x480 with 1 Axes>"
      ]
     },
     "metadata": {},
     "output_type": "display_data"
    },
    {
     "name": "stdout",
     "output_type": "stream",
     "text": [
      "\n"
     ]
    }
   ],
   "source": [
    "ga_instance.plot_fitness()\n",
    "print()\n"
   ]
  }
 ],
 "metadata": {
  "kernelspec": {
   "display_name": "Python 3",
   "language": "python",
   "name": "python3"
  },
  "language_info": {
   "codemirror_mode": {
    "name": "ipython",
    "version": 3
   },
   "file_extension": ".py",
   "mimetype": "text/x-python",
   "name": "python",
   "nbconvert_exporter": "python",
   "pygments_lexer": "ipython3",
   "version": "3.10.6"
  },
  "orig_nbformat": 4
 },
 "nbformat": 4,
 "nbformat_minor": 2
}
