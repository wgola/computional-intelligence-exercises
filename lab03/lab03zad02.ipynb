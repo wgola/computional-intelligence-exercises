{
 "cells": [
  {
   "attachments": {},
   "cell_type": "markdown",
   "metadata": {},
   "source": [
    "Zaimportowanie potrzebnych bibliotek\n"
   ]
  },
  {
   "cell_type": "code",
   "execution_count": 1,
   "metadata": {},
   "outputs": [],
   "source": [
    "import pygad\n",
    "import copy\n",
    "import time\n"
   ]
  },
  {
   "attachments": {},
   "cell_type": "markdown",
   "metadata": {},
   "source": [
    "Zapisanie labiryntu jako macierz (`0` - wolne miejsce, `1` - ściana) oraz ustalenie maksymalnej liczby ruchów na `30`\n"
   ]
  },
  {
   "cell_type": "code",
   "execution_count": 2,
   "metadata": {},
   "outputs": [],
   "source": [
    "labirynth = [\n",
    "    [1, 1, 1, 1, 1, 1, 1, 1, 1, 1, 1, 1],\n",
    "    [1, 0, 0, 0, 1, 0, 0, 0, 1, 0, 0, 1],\n",
    "    [1, 1, 1, 0, 0, 0, 1, 0, 1, 1, 0, 1],\n",
    "    [1, 0, 0, 0, 1, 0, 1, 0, 0, 0, 0, 1],\n",
    "    [1, 0, 1, 0, 1, 1, 0, 0, 1, 1, 0, 1],\n",
    "    [1, 0, 0, 1, 1, 0, 0, 0, 1, 0, 0, 1],\n",
    "    [1, 0, 0, 0, 0, 0, 1, 0, 0, 0, 1, 1],\n",
    "    [1, 0, 1, 0, 0, 1, 1, 0, 1, 0, 0, 1],\n",
    "    [1, 0, 1, 1, 1, 0, 0, 0, 1, 1, 0, 1],\n",
    "    [1, 0, 1, 0, 1, 1, 0, 1, 0, 1, 0, 1],\n",
    "    [1, 0, 1, 0, 0, 0, 0, 0, 0, 0, 0, 1],\n",
    "    [1, 1, 1, 1, 1, 1, 1, 1, 1, 1, 1, 1],\n",
    "]\n",
    "\n",
    "max_moves = 30\n"
   ]
  },
  {
   "attachments": {},
   "cell_type": "markdown",
   "metadata": {},
   "source": [
    "Ustalenie przestrzeni genów na liczby `0` (góra), `1` (prawa), `2` (dół) oraz `3` (lewa)\n"
   ]
  },
  {
   "cell_type": "code",
   "execution_count": 3,
   "metadata": {},
   "outputs": [],
   "source": [
    "gene_space = [0, 1, 2, 3]\n"
   ]
  },
  {
   "attachments": {},
   "cell_type": "markdown",
   "metadata": {},
   "source": [
    "Stworzenie funkcji pomocniczych oraz funkcji fitness, która oblicza wynik rozwiązania na podstawie jego odległości od wyjścia z labiryntu, ilości kroków do tyłu oraz ilości kroków \"w ścianę\"\n"
   ]
  },
  {
   "cell_type": "code",
   "execution_count": 4,
   "metadata": {},
   "outputs": [],
   "source": [
    "def calculate_move(move, x, y, wrong):\n",
    "    match move:\n",
    "        case 0:\n",
    "            if labirynth[x][y + 1]:\n",
    "                wrong += 1\n",
    "            else:\n",
    "                y += 1\n",
    "        case 1:\n",
    "            if labirynth[x + 1][y]:\n",
    "                wrong += 1\n",
    "            else:\n",
    "                x += 1\n",
    "        case 2:\n",
    "            if labirynth[x][y - 1]:\n",
    "                wrong += 1\n",
    "            else:\n",
    "                y -= 1\n",
    "        case _:\n",
    "            if labirynth[x - 1][y]:\n",
    "                wrong += 1\n",
    "            else:\n",
    "                x -= 1\n",
    "    return x, y, wrong\n",
    "\n",
    "\n",
    "def distance_from_exit(x, y):\n",
    "    return abs(x - 10) + abs(y - 10)\n",
    "\n",
    "\n",
    "def fitness_function(solution, solution_idx):\n",
    "    position_x, position_y, wrong_moves, moves_back = 1, 1, 0, 0\n",
    "\n",
    "    for move in solution:\n",
    "        distance_before = distance_from_exit(position_x, position_y)\n",
    "\n",
    "        position_x, position_y, wrong_moves = calculate_move(\n",
    "            move, position_x, position_y, wrong_moves)\n",
    "\n",
    "        distance_after = distance_from_exit(position_x, position_y)\n",
    "\n",
    "        if distance_after > distance_before:\n",
    "            moves_back += 1\n",
    "\n",
    "    distance_final = distance_from_exit(position_x, position_y)\n",
    "\n",
    "    return 1000/(4 * distance_final + 3 * moves_back + wrong_moves)\n"
   ]
  },
  {
   "attachments": {},
   "cell_type": "markdown",
   "metadata": {},
   "source": [
    "Ustalenie wielkości populacji na `300` chromosomów oraz ilości genów na ilość ruchów (`30`)\n"
   ]
  },
  {
   "cell_type": "code",
   "execution_count": 5,
   "metadata": {},
   "outputs": [],
   "source": [
    "sol_per_pop = 300\n",
    "num_genes = max_moves\n"
   ]
  },
  {
   "attachments": {},
   "cell_type": "markdown",
   "metadata": {},
   "source": [
    "Ustalenie liczby rodziców do \"rozmnażania\" na `150`, liczby generacji na `150` oraz ilości rodziców do zachowania między generacjami na `40`\n"
   ]
  },
  {
   "cell_type": "code",
   "execution_count": 6,
   "metadata": {},
   "outputs": [],
   "source": [
    "num_parents_mating = 150\n",
    "num_generations = 150\n",
    "keep_parents = 40\n"
   ]
  },
  {
   "attachments": {},
   "cell_type": "markdown",
   "metadata": {},
   "source": [
    "Ustalenie typu selekcji rodziców oraz ilości punktów, w których należy robić krzyżowanie\n"
   ]
  },
  {
   "cell_type": "code",
   "execution_count": 7,
   "metadata": {},
   "outputs": [],
   "source": [
    "parent_selection_type = \"sss\"\n",
    "crossover_type = \"single_point\"\n"
   ]
  },
  {
   "attachments": {},
   "cell_type": "markdown",
   "metadata": {},
   "source": [
    "Ustalenie typu mutacji na losową oraz procentu mutowanych genów na `4%`\n"
   ]
  },
  {
   "cell_type": "code",
   "execution_count": 8,
   "metadata": {},
   "outputs": [],
   "source": [
    "mutation_type = \"random\"\n",
    "mutation_percent_genes = 4\n"
   ]
  },
  {
   "attachments": {},
   "cell_type": "markdown",
   "metadata": {},
   "source": [
    "Ustalenie warunku zatrzymania na osiągnięcie wyniku chromosomu większego lub równego `75`\n"
   ]
  },
  {
   "cell_type": "code",
   "execution_count": 9,
   "metadata": {},
   "outputs": [],
   "source": [
    "stop_criteria = \"reach_75\"\n"
   ]
  },
  {
   "attachments": {},
   "cell_type": "markdown",
   "metadata": {},
   "source": [
    "Inicjalizacja oraz uruchomienie algorytmu ze zdefiniowanymi parametrami oraz zmierzenie czasu jego działania\n"
   ]
  },
  {
   "cell_type": "code",
   "execution_count": 10,
   "metadata": {},
   "outputs": [],
   "source": [
    "start = time.time()\n",
    "\n",
    "ga_instance = pygad.GA(\n",
    "    gene_space=gene_space,\n",
    "    num_generations=num_generations,\n",
    "    num_parents_mating=num_parents_mating,\n",
    "    fitness_func=fitness_function,\n",
    "    sol_per_pop=sol_per_pop,\n",
    "    num_genes=num_genes,\n",
    "    parent_selection_type=parent_selection_type,\n",
    "    keep_parents=keep_parents,\n",
    "    crossover_type=crossover_type,\n",
    "    mutation_type=mutation_type,\n",
    "    mutation_percent_genes=mutation_percent_genes,\n",
    "    stop_criteria=stop_criteria\n",
    ")\n",
    "\n",
    "ga_instance.run()\n",
    "\n",
    "end = time.time()\n",
    "\n",
    "duration = end - start\n"
   ]
  },
  {
   "attachments": {},
   "cell_type": "markdown",
   "metadata": {},
   "source": [
    "Wyświetlenie czasu wykonania algorytmu, najlepszego znalezionego chromosomu oraz jego wyniku\n"
   ]
  },
  {
   "cell_type": "code",
   "execution_count": 11,
   "metadata": {},
   "outputs": [
    {
     "name": "stdout",
     "output_type": "stream",
     "text": [
      "Duration of algorythm: 0.362882137298584 seconds\n",
      "Parameters of the best solution: [2. 1. 0. 0. 0. 3. 3. 3. 1. 0. 0. 3. 0. 1. 0. 0. 1. 1. 1. 1. 1. 0. 0. 1.\n",
      " 0. 0. 1. 1. 0. 1.]\n",
      "Fitness value of the best solution = 76.92307692307692\n"
     ]
    }
   ],
   "source": [
    "solution, solution_fitness, _ = ga_instance.best_solution()\n",
    "print(\"Duration of algorythm: {} seconds\".format(duration))\n",
    "print(\"Parameters of the best solution: {solution}\".format(solution=solution))\n",
    "print(\"Fitness value of the best solution = {solution_fitness}\".format(\n",
    "    solution_fitness=solution_fitness))\n"
   ]
  },
  {
   "attachments": {},
   "cell_type": "markdown",
   "metadata": {},
   "source": [
    "Wyświetlenie znalezionej drogi w formie macierzy, gdzie `X` wyznaczają ścieżkę do wyjścia\n"
   ]
  },
  {
   "cell_type": "code",
   "execution_count": 12,
   "metadata": {},
   "outputs": [
    {
     "name": "stdout",
     "output_type": "stream",
     "text": [
      "1 1 1 1 1 1 1 1 1 1 1 1 \n",
      "1 X X X 1 X X X 1 0 0 1 \n",
      "1 1 1 X X X 1 X 1 1 0 1 \n",
      "1 0 0 0 1 0 1 X 0 0 0 1 \n",
      "1 0 1 0 1 1 0 X 1 1 0 1 \n",
      "1 0 0 1 1 0 0 X 1 0 0 1 \n",
      "1 0 0 0 0 0 1 X X X 1 1 \n",
      "1 0 1 0 0 1 1 0 1 X X 1 \n",
      "1 0 1 1 1 0 0 0 1 1 X 1 \n",
      "1 0 1 0 1 1 0 1 0 1 X 1 \n",
      "1 0 1 0 0 0 0 0 0 0 X 1 \n",
      "1 1 1 1 1 1 1 1 1 1 1 1 \n"
     ]
    }
   ],
   "source": [
    "answer = copy.deepcopy(labirynth)\n",
    "x, y, wrong = 1, 1, 0\n",
    "for move in solution:\n",
    "    x, y, _ = calculate_move(move, x, y, wrong)\n",
    "    answer[x][y] = \"X\"\n",
    "\n",
    "for line in answer:\n",
    "    for tile in line:\n",
    "        print(tile, end=\" \")\n",
    "    print()\n"
   ]
  },
  {
   "attachments": {},
   "cell_type": "markdown",
   "metadata": {},
   "source": [
    "Wykres przedstawiający zmianę oceny na przestrzeni pokoleń\n"
   ]
  },
  {
   "cell_type": "code",
   "execution_count": 13,
   "metadata": {},
   "outputs": [
    {
     "data": {
      "image/png": "[encoded data removed]",
      "text/plain": [
       "<Figure size 640x480 with 1 Axes>"
      ]
     },
     "metadata": {},
     "output_type": "display_data"
    },
    {
     "name": "stdout",
     "output_type": "stream",
     "text": [
      "\n"
     ]
    }
   ],
   "source": [
    "ga_instance.plot_fitness()\n",
    "print()\n"
   ]
  }
 ],
 "metadata": {
  "kernelspec": {
   "display_name": "Python 3",
   "language": "python",
   "name": "python3"
  },
  "language_info": {
   "codemirror_mode": {
    "name": "ipython",
    "version": 3
   },
   "file_extension": ".py",
   "mimetype": "text/x-python",
   "name": "python",
   "nbconvert_exporter": "python",
   "pygments_lexer": "ipython3",
   "version": "3.10.6"
  },
  "orig_nbformat": 4
 },
 "nbformat": 4,
 "nbformat_minor": 2
}
