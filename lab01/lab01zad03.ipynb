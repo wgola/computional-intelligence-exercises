{
 "cells": [
  {
   "attachments": {},
   "cell_type": "markdown",
   "metadata": {},
   "source": [
    "Zaimportowanie bibliotek\n"
   ]
  },
  {
   "cell_type": "code",
   "execution_count": 21,
   "metadata": {},
   "outputs": [],
   "source": [
    "import pandas as pd\n",
    "import matplotlib.pyplot as plt\n"
   ]
  },
  {
   "attachments": {},
   "cell_type": "markdown",
   "metadata": {},
   "source": [
    "Wczytanie danych z pliku i wyświetlenie tabeli z danymi oraz samych wartości\n"
   ]
  },
  {
   "cell_type": "code",
   "execution_count": 22,
   "metadata": {},
   "outputs": [
    {
     "name": "stdout",
     "output_type": "stream",
     "text": [
      "[[1900  170  110  210]\n",
      " [1925  210  220  254]\n",
      " [1939  250  274  287]\n",
      " [1946  117  267   72]\n",
      " [1950  194  320  178]\n",
      " [1960  286  408  269]\n",
      " [1970  365  471  338]\n",
      " [1980  456  552  388]\n",
      " [1990  465  590  413]\n",
      " [2000  462  574  416]]\n"
     ]
    },
    {
     "data": {
      "text/html": [
       "<div>\n",
       "<style scoped>\n",
       "    .dataframe tbody tr th:only-of-type {\n",
       "        vertical-align: middle;\n",
       "    }\n",
       "\n",
       "    .dataframe tbody tr th {\n",
       "        vertical-align: top;\n",
       "    }\n",
       "\n",
       "    .dataframe thead th {\n",
       "        text-align: right;\n",
       "    }\n",
       "</style>\n",
       "<table border=\"1\" class=\"dataframe\">\n",
       "  <thead>\n",
       "    <tr style=\"text-align: right;\">\n",
       "      <th></th>\n",
       "      <th>Rok</th>\n",
       "      <th>Gdansk</th>\n",
       "      <th>Poznan</th>\n",
       "      <th>Szczecin</th>\n",
       "    </tr>\n",
       "  </thead>\n",
       "  <tbody>\n",
       "    <tr>\n",
       "      <th>0</th>\n",
       "      <td>1900</td>\n",
       "      <td>170</td>\n",
       "      <td>110</td>\n",
       "      <td>210</td>\n",
       "    </tr>\n",
       "    <tr>\n",
       "      <th>1</th>\n",
       "      <td>1925</td>\n",
       "      <td>210</td>\n",
       "      <td>220</td>\n",
       "      <td>254</td>\n",
       "    </tr>\n",
       "    <tr>\n",
       "      <th>2</th>\n",
       "      <td>1939</td>\n",
       "      <td>250</td>\n",
       "      <td>274</td>\n",
       "      <td>287</td>\n",
       "    </tr>\n",
       "    <tr>\n",
       "      <th>3</th>\n",
       "      <td>1946</td>\n",
       "      <td>117</td>\n",
       "      <td>267</td>\n",
       "      <td>72</td>\n",
       "    </tr>\n",
       "    <tr>\n",
       "      <th>4</th>\n",
       "      <td>1950</td>\n",
       "      <td>194</td>\n",
       "      <td>320</td>\n",
       "      <td>178</td>\n",
       "    </tr>\n",
       "    <tr>\n",
       "      <th>5</th>\n",
       "      <td>1960</td>\n",
       "      <td>286</td>\n",
       "      <td>408</td>\n",
       "      <td>269</td>\n",
       "    </tr>\n",
       "    <tr>\n",
       "      <th>6</th>\n",
       "      <td>1970</td>\n",
       "      <td>365</td>\n",
       "      <td>471</td>\n",
       "      <td>338</td>\n",
       "    </tr>\n",
       "    <tr>\n",
       "      <th>7</th>\n",
       "      <td>1980</td>\n",
       "      <td>456</td>\n",
       "      <td>552</td>\n",
       "      <td>388</td>\n",
       "    </tr>\n",
       "    <tr>\n",
       "      <th>8</th>\n",
       "      <td>1990</td>\n",
       "      <td>465</td>\n",
       "      <td>590</td>\n",
       "      <td>413</td>\n",
       "    </tr>\n",
       "    <tr>\n",
       "      <th>9</th>\n",
       "      <td>2000</td>\n",
       "      <td>462</td>\n",
       "      <td>574</td>\n",
       "      <td>416</td>\n",
       "    </tr>\n",
       "  </tbody>\n",
       "</table>\n",
       "</div>"
      ],
      "text/plain": [
       "    Rok  Gdansk  Poznan  Szczecin\n",
       "0  1900     170     110       210\n",
       "1  1925     210     220       254\n",
       "2  1939     250     274       287\n",
       "3  1946     117     267        72\n",
       "4  1950     194     320       178\n",
       "5  1960     286     408       269\n",
       "6  1970     365     471       338\n",
       "7  1980     456     552       388\n",
       "8  1990     465     590       413\n",
       "9  2000     462     574       416"
      ]
     },
     "metadata": {},
     "output_type": "display_data"
    }
   ],
   "source": [
    "miasta = pd.read_csv(\"./miasta.csv\")\n",
    "print(miasta.values)\n",
    "display(miasta)\n"
   ]
  },
  {
   "attachments": {},
   "cell_type": "markdown",
   "metadata": {},
   "source": [
    "Dodanie wiersza na koniec tabeli i wyświetlenie jej po modyfikacji\n"
   ]
  },
  {
   "cell_type": "code",
   "execution_count": 23,
   "metadata": {},
   "outputs": [
    {
     "data": {
      "text/html": [
       "<div>\n",
       "<style scoped>\n",
       "    .dataframe tbody tr th:only-of-type {\n",
       "        vertical-align: middle;\n",
       "    }\n",
       "\n",
       "    .dataframe tbody tr th {\n",
       "        vertical-align: top;\n",
       "    }\n",
       "\n",
       "    .dataframe thead th {\n",
       "        text-align: right;\n",
       "    }\n",
       "</style>\n",
       "<table border=\"1\" class=\"dataframe\">\n",
       "  <thead>\n",
       "    <tr style=\"text-align: right;\">\n",
       "      <th></th>\n",
       "      <th>Rok</th>\n",
       "      <th>Gdansk</th>\n",
       "      <th>Poznan</th>\n",
       "      <th>Szczecin</th>\n",
       "    </tr>\n",
       "  </thead>\n",
       "  <tbody>\n",
       "    <tr>\n",
       "      <th>0</th>\n",
       "      <td>1900</td>\n",
       "      <td>170</td>\n",
       "      <td>110</td>\n",
       "      <td>210</td>\n",
       "    </tr>\n",
       "    <tr>\n",
       "      <th>1</th>\n",
       "      <td>1925</td>\n",
       "      <td>210</td>\n",
       "      <td>220</td>\n",
       "      <td>254</td>\n",
       "    </tr>\n",
       "    <tr>\n",
       "      <th>2</th>\n",
       "      <td>1939</td>\n",
       "      <td>250</td>\n",
       "      <td>274</td>\n",
       "      <td>287</td>\n",
       "    </tr>\n",
       "    <tr>\n",
       "      <th>3</th>\n",
       "      <td>1946</td>\n",
       "      <td>117</td>\n",
       "      <td>267</td>\n",
       "      <td>72</td>\n",
       "    </tr>\n",
       "    <tr>\n",
       "      <th>4</th>\n",
       "      <td>1950</td>\n",
       "      <td>194</td>\n",
       "      <td>320</td>\n",
       "      <td>178</td>\n",
       "    </tr>\n",
       "    <tr>\n",
       "      <th>5</th>\n",
       "      <td>1960</td>\n",
       "      <td>286</td>\n",
       "      <td>408</td>\n",
       "      <td>269</td>\n",
       "    </tr>\n",
       "    <tr>\n",
       "      <th>6</th>\n",
       "      <td>1970</td>\n",
       "      <td>365</td>\n",
       "      <td>471</td>\n",
       "      <td>338</td>\n",
       "    </tr>\n",
       "    <tr>\n",
       "      <th>7</th>\n",
       "      <td>1980</td>\n",
       "      <td>456</td>\n",
       "      <td>552</td>\n",
       "      <td>388</td>\n",
       "    </tr>\n",
       "    <tr>\n",
       "      <th>8</th>\n",
       "      <td>1990</td>\n",
       "      <td>465</td>\n",
       "      <td>590</td>\n",
       "      <td>413</td>\n",
       "    </tr>\n",
       "    <tr>\n",
       "      <th>9</th>\n",
       "      <td>2000</td>\n",
       "      <td>462</td>\n",
       "      <td>574</td>\n",
       "      <td>416</td>\n",
       "    </tr>\n",
       "    <tr>\n",
       "      <th>10</th>\n",
       "      <td>2010</td>\n",
       "      <td>460</td>\n",
       "      <td>555</td>\n",
       "      <td>405</td>\n",
       "    </tr>\n",
       "  </tbody>\n",
       "</table>\n",
       "</div>"
      ],
      "text/plain": [
       "     Rok  Gdansk  Poznan  Szczecin\n",
       "0   1900     170     110       210\n",
       "1   1925     210     220       254\n",
       "2   1939     250     274       287\n",
       "3   1946     117     267        72\n",
       "4   1950     194     320       178\n",
       "5   1960     286     408       269\n",
       "6   1970     365     471       338\n",
       "7   1980     456     552       388\n",
       "8   1990     465     590       413\n",
       "9   2000     462     574       416\n",
       "10  2010     460     555       405"
      ]
     },
     "metadata": {},
     "output_type": "display_data"
    }
   ],
   "source": [
    "miasta.loc[len(miasta)] = [2010, 460, 555, 405]\n",
    "display(miasta)\n"
   ]
  },
  {
   "attachments": {},
   "cell_type": "markdown",
   "metadata": {},
   "source": [
    "Wykres dla ludności miasta Gdańsk\n"
   ]
  },
  {
   "cell_type": "code",
   "execution_count": 24,
   "metadata": {},
   "outputs": [
    {
     "data": {
      "image/png": "[encoded data removed]",
      "text/plain": [
       "<Figure size 640x480 with 1 Axes>"
      ]
     },
     "metadata": {},
     "output_type": "display_data"
    }
   ],
   "source": [
    "miasta.plot(\n",
    "    x=\"Rok\",\n",
    "    y=\"Gdansk\",\n",
    "    marker=\"o\",\n",
    "    color=\"red\",\n",
    "    legend=False,\n",
    "    title=\"Ludnosc w miastach Polski\",\n",
    "    xlabel=\"Lata\",\n",
    "    xticks=miasta[\"Rok\"],\n",
    "    rot=45,\n",
    "    ylabel=\"Liczba ludnosci [W tys.]\"\n",
    ")\n",
    "plt.show()\n"
   ]
  },
  {
   "attachments": {},
   "cell_type": "markdown",
   "metadata": {},
   "source": [
    "Wykres zmian ludności w miastach\n"
   ]
  },
  {
   "cell_type": "code",
   "execution_count": 25,
   "metadata": {},
   "outputs": [
    {
     "data": {
      "image/png": "[encoded data removed]",
      "text/plain": [
       "<Figure size 640x480 with 1 Axes>"
      ]
     },
     "metadata": {},
     "output_type": "display_data"
    }
   ],
   "source": [
    "miasta.plot(\n",
    "    x=\"Rok\",\n",
    "    y=[\"Gdansk\", \"Poznan\", \"Szczecin\"],\n",
    "    marker=\"o\",\n",
    "    title=\"Zmiany ludnosci w miastach\",\n",
    "    xlabel=\"Lata\",\n",
    "    xticks=miasta[\"Rok\"],\n",
    "    rot=45,\n",
    "    ylabel=\"Liczba ludnosci [W tys.]\"\n",
    ")\n",
    "plt.show()\n"
   ]
  },
  {
   "attachments": {},
   "cell_type": "markdown",
   "metadata": {},
   "source": [
    "Przeskalowanie danych z wykorzystaniem standaryzacji oraz obliczenie średniej i odchylenia standardowego danych\n"
   ]
  },
  {
   "cell_type": "code",
   "execution_count": 26,
   "metadata": {},
   "outputs": [],
   "source": [
    "df = miasta.drop(\"Rok\", axis=1)\n",
    "df_stand = (df - df.mean())/df.std()\n",
    "mean_stand = df_stand.mean()\n",
    "sd_stand = df_stand.std()\n",
    "df_stand[\"Rok\"] = miasta[\"Rok\"]\n"
   ]
  },
  {
   "attachments": {},
   "cell_type": "markdown",
   "metadata": {},
   "source": [
    "Ustandaryzowane dane:\n"
   ]
  },
  {
   "cell_type": "code",
   "execution_count": 27,
   "metadata": {},
   "outputs": [
    {
     "data": {
      "text/html": [
       "<div>\n",
       "<style scoped>\n",
       "    .dataframe tbody tr th:only-of-type {\n",
       "        vertical-align: middle;\n",
       "    }\n",
       "\n",
       "    .dataframe tbody tr th {\n",
       "        vertical-align: top;\n",
       "    }\n",
       "\n",
       "    .dataframe thead th {\n",
       "        text-align: right;\n",
       "    }\n",
       "</style>\n",
       "<table border=\"1\" class=\"dataframe\">\n",
       "  <thead>\n",
       "    <tr style=\"text-align: right;\">\n",
       "      <th></th>\n",
       "      <th>Gdansk</th>\n",
       "      <th>Poznan</th>\n",
       "      <th>Szczecin</th>\n",
       "      <th>Rok</th>\n",
       "    </tr>\n",
       "  </thead>\n",
       "  <tbody>\n",
       "    <tr>\n",
       "      <th>0</th>\n",
       "      <td>-1.065200</td>\n",
       "      <td>-1.717176</td>\n",
       "      <td>-0.750452</td>\n",
       "      <td>1900</td>\n",
       "    </tr>\n",
       "    <tr>\n",
       "      <th>1</th>\n",
       "      <td>-0.765719</td>\n",
       "      <td>-1.053560</td>\n",
       "      <td>-0.355649</td>\n",
       "      <td>1925</td>\n",
       "    </tr>\n",
       "    <tr>\n",
       "      <th>2</th>\n",
       "      <td>-0.466238</td>\n",
       "      <td>-0.727784</td>\n",
       "      <td>-0.059547</td>\n",
       "      <td>1939</td>\n",
       "    </tr>\n",
       "    <tr>\n",
       "      <th>3</th>\n",
       "      <td>-1.462013</td>\n",
       "      <td>-0.770014</td>\n",
       "      <td>-1.988698</td>\n",
       "      <td>1946</td>\n",
       "    </tr>\n",
       "    <tr>\n",
       "      <th>4</th>\n",
       "      <td>-0.885512</td>\n",
       "      <td>-0.450272</td>\n",
       "      <td>-1.037581</td>\n",
       "      <td>1950</td>\n",
       "    </tr>\n",
       "    <tr>\n",
       "      <th>5</th>\n",
       "      <td>-0.196705</td>\n",
       "      <td>0.080621</td>\n",
       "      <td>-0.221057</td>\n",
       "      <td>1960</td>\n",
       "    </tr>\n",
       "    <tr>\n",
       "      <th>6</th>\n",
       "      <td>0.394771</td>\n",
       "      <td>0.460692</td>\n",
       "      <td>0.398066</td>\n",
       "      <td>1970</td>\n",
       "    </tr>\n",
       "    <tr>\n",
       "      <th>7</th>\n",
       "      <td>1.076091</td>\n",
       "      <td>0.949355</td>\n",
       "      <td>0.846706</td>\n",
       "      <td>1980</td>\n",
       "    </tr>\n",
       "    <tr>\n",
       "      <th>8</th>\n",
       "      <td>1.143474</td>\n",
       "      <td>1.178605</td>\n",
       "      <td>1.071025</td>\n",
       "      <td>1990</td>\n",
       "    </tr>\n",
       "    <tr>\n",
       "      <th>9</th>\n",
       "      <td>1.121013</td>\n",
       "      <td>1.082079</td>\n",
       "      <td>1.097944</td>\n",
       "      <td>2000</td>\n",
       "    </tr>\n",
       "    <tr>\n",
       "      <th>10</th>\n",
       "      <td>1.106039</td>\n",
       "      <td>0.967454</td>\n",
       "      <td>0.999243</td>\n",
       "      <td>2010</td>\n",
       "    </tr>\n",
       "  </tbody>\n",
       "</table>\n",
       "</div>"
      ],
      "text/plain": [
       "      Gdansk    Poznan  Szczecin   Rok\n",
       "0  -1.065200 -1.717176 -0.750452  1900\n",
       "1  -0.765719 -1.053560 -0.355649  1925\n",
       "2  -0.466238 -0.727784 -0.059547  1939\n",
       "3  -1.462013 -0.770014 -1.988698  1946\n",
       "4  -0.885512 -0.450272 -1.037581  1950\n",
       "5  -0.196705  0.080621 -0.221057  1960\n",
       "6   0.394771  0.460692  0.398066  1970\n",
       "7   1.076091  0.949355  0.846706  1980\n",
       "8   1.143474  1.178605  1.071025  1990\n",
       "9   1.121013  1.082079  1.097944  2000\n",
       "10  1.106039  0.967454  0.999243  2010"
      ]
     },
     "metadata": {},
     "output_type": "display_data"
    }
   ],
   "source": [
    "display(df_stand)\n"
   ]
  },
  {
   "attachments": {},
   "cell_type": "markdown",
   "metadata": {},
   "source": [
    "Średnia:\n"
   ]
  },
  {
   "cell_type": "code",
   "execution_count": 28,
   "metadata": {},
   "outputs": [
    {
     "data": {
      "text/plain": [
       "Gdansk      1.211152e-16\n",
       "Poznan      6.055762e-17\n",
       "Szczecin    7.065056e-17\n",
       "dtype: float64"
      ]
     },
     "metadata": {},
     "output_type": "display_data"
    }
   ],
   "source": [
    "display(mean_stand)\n"
   ]
  },
  {
   "attachments": {},
   "cell_type": "markdown",
   "metadata": {},
   "source": [
    "Odchylenie standardowe:\n"
   ]
  },
  {
   "cell_type": "code",
   "execution_count": 29,
   "metadata": {},
   "outputs": [
    {
     "data": {
      "text/plain": [
       "Gdansk      1.0\n",
       "Poznan      1.0\n",
       "Szczecin    1.0\n",
       "dtype: float64"
      ]
     },
     "metadata": {},
     "output_type": "display_data"
    }
   ],
   "source": [
    "display(sd_stand)\n"
   ]
  },
  {
   "attachments": {},
   "cell_type": "markdown",
   "metadata": {},
   "source": [
    "Przeskalowanie danych z wykorzystaniem normalizacji oraz obliczenie minimalnej i maksymalnej wartośći danych\n"
   ]
  },
  {
   "cell_type": "code",
   "execution_count": 30,
   "metadata": {},
   "outputs": [],
   "source": [
    "df_norm = (df - df.min())/(df.max()-df.min())\n",
    "min_norm = df_norm.min()\n",
    "max_norm = df_norm.max()\n",
    "df_norm[\"Rok\"] = miasta[\"Rok\"]\n"
   ]
  },
  {
   "attachments": {},
   "cell_type": "markdown",
   "metadata": {},
   "source": [
    "Znormalizowane dane:\n"
   ]
  },
  {
   "cell_type": "code",
   "execution_count": 31,
   "metadata": {},
   "outputs": [
    {
     "data": {
      "text/html": [
       "<div>\n",
       "<style scoped>\n",
       "    .dataframe tbody tr th:only-of-type {\n",
       "        vertical-align: middle;\n",
       "    }\n",
       "\n",
       "    .dataframe tbody tr th {\n",
       "        vertical-align: top;\n",
       "    }\n",
       "\n",
       "    .dataframe thead th {\n",
       "        text-align: right;\n",
       "    }\n",
       "</style>\n",
       "<table border=\"1\" class=\"dataframe\">\n",
       "  <thead>\n",
       "    <tr style=\"text-align: right;\">\n",
       "      <th></th>\n",
       "      <th>Gdansk</th>\n",
       "      <th>Poznan</th>\n",
       "      <th>Szczecin</th>\n",
       "      <th>Rok</th>\n",
       "    </tr>\n",
       "  </thead>\n",
       "  <tbody>\n",
       "    <tr>\n",
       "      <th>0</th>\n",
       "      <td>0.152299</td>\n",
       "      <td>0.000000</td>\n",
       "      <td>0.401163</td>\n",
       "      <td>1900</td>\n",
       "    </tr>\n",
       "    <tr>\n",
       "      <th>1</th>\n",
       "      <td>0.267241</td>\n",
       "      <td>0.229167</td>\n",
       "      <td>0.529070</td>\n",
       "      <td>1925</td>\n",
       "    </tr>\n",
       "    <tr>\n",
       "      <th>2</th>\n",
       "      <td>0.382184</td>\n",
       "      <td>0.341667</td>\n",
       "      <td>0.625000</td>\n",
       "      <td>1939</td>\n",
       "    </tr>\n",
       "    <tr>\n",
       "      <th>3</th>\n",
       "      <td>0.000000</td>\n",
       "      <td>0.327083</td>\n",
       "      <td>0.000000</td>\n",
       "      <td>1946</td>\n",
       "    </tr>\n",
       "    <tr>\n",
       "      <th>4</th>\n",
       "      <td>0.221264</td>\n",
       "      <td>0.437500</td>\n",
       "      <td>0.308140</td>\n",
       "      <td>1950</td>\n",
       "    </tr>\n",
       "    <tr>\n",
       "      <th>5</th>\n",
       "      <td>0.485632</td>\n",
       "      <td>0.620833</td>\n",
       "      <td>0.572674</td>\n",
       "      <td>1960</td>\n",
       "    </tr>\n",
       "    <tr>\n",
       "      <th>6</th>\n",
       "      <td>0.712644</td>\n",
       "      <td>0.752083</td>\n",
       "      <td>0.773256</td>\n",
       "      <td>1970</td>\n",
       "    </tr>\n",
       "    <tr>\n",
       "      <th>7</th>\n",
       "      <td>0.974138</td>\n",
       "      <td>0.920833</td>\n",
       "      <td>0.918605</td>\n",
       "      <td>1980</td>\n",
       "    </tr>\n",
       "    <tr>\n",
       "      <th>8</th>\n",
       "      <td>1.000000</td>\n",
       "      <td>1.000000</td>\n",
       "      <td>0.991279</td>\n",
       "      <td>1990</td>\n",
       "    </tr>\n",
       "    <tr>\n",
       "      <th>9</th>\n",
       "      <td>0.991379</td>\n",
       "      <td>0.966667</td>\n",
       "      <td>1.000000</td>\n",
       "      <td>2000</td>\n",
       "    </tr>\n",
       "    <tr>\n",
       "      <th>10</th>\n",
       "      <td>0.985632</td>\n",
       "      <td>0.927083</td>\n",
       "      <td>0.968023</td>\n",
       "      <td>2010</td>\n",
       "    </tr>\n",
       "  </tbody>\n",
       "</table>\n",
       "</div>"
      ],
      "text/plain": [
       "      Gdansk    Poznan  Szczecin   Rok\n",
       "0   0.152299  0.000000  0.401163  1900\n",
       "1   0.267241  0.229167  0.529070  1925\n",
       "2   0.382184  0.341667  0.625000  1939\n",
       "3   0.000000  0.327083  0.000000  1946\n",
       "4   0.221264  0.437500  0.308140  1950\n",
       "5   0.485632  0.620833  0.572674  1960\n",
       "6   0.712644  0.752083  0.773256  1970\n",
       "7   0.974138  0.920833  0.918605  1980\n",
       "8   1.000000  1.000000  0.991279  1990\n",
       "9   0.991379  0.966667  1.000000  2000\n",
       "10  0.985632  0.927083  0.968023  2010"
      ]
     },
     "metadata": {},
     "output_type": "display_data"
    }
   ],
   "source": [
    "display(df_norm)\n"
   ]
  },
  {
   "attachments": {},
   "cell_type": "markdown",
   "metadata": {},
   "source": [
    "Wartość minimalna:\n"
   ]
  },
  {
   "cell_type": "code",
   "execution_count": 32,
   "metadata": {},
   "outputs": [
    {
     "data": {
      "text/plain": [
       "Gdansk      0.0\n",
       "Poznan      0.0\n",
       "Szczecin    0.0\n",
       "dtype: float64"
      ]
     },
     "metadata": {},
     "output_type": "display_data"
    }
   ],
   "source": [
    "display(min_norm)\n"
   ]
  },
  {
   "attachments": {},
   "cell_type": "markdown",
   "metadata": {},
   "source": [
    "Wartość maksymalna:\n"
   ]
  },
  {
   "cell_type": "code",
   "execution_count": 33,
   "metadata": {},
   "outputs": [
    {
     "data": {
      "text/plain": [
       "Gdansk      1.0\n",
       "Poznan      1.0\n",
       "Szczecin    1.0\n",
       "dtype: float64"
      ]
     },
     "metadata": {},
     "output_type": "display_data"
    }
   ],
   "source": [
    "display(max_norm)\n"
   ]
  }
 ],
 "metadata": {
  "kernelspec": {
   "display_name": "Python 3",
   "language": "python",
   "name": "python3"
  },
  "language_info": {
   "codemirror_mode": {
    "name": "ipython",
    "version": 3
   },
   "file_extension": ".py",
   "mimetype": "text/x-python",
   "name": "python",
   "nbconvert_exporter": "python",
   "pygments_lexer": "ipython3",
   "version": "3.10.6"
  },
  "orig_nbformat": 4,
  "vscode": {
   "interpreter": {
    "hash": "916dbcbb3f70747c44a77c7bcd40155683ae19c65e1c03b4aa3499c5328201f1"
   }
  }
 },
 "nbformat": 4,
 "nbformat_minor": 2
}
